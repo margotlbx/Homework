{
 "cells": [
  {
   "cell_type": "code",
   "execution_count": 9,
   "id": "4eed7b0a",
   "metadata": {},
   "outputs": [
    {
     "data": {
      "text/plain": [
       "{'Jake': 22, 'Joe': 19, 'Ellen': 22}"
      ]
     },
     "execution_count": 9,
     "metadata": {},
     "output_type": "execute_result"
    }
   ],
   "source": [
    "scores_list = [[\"Jake\", 10], [\"Joe\", 5], [\"Jake\", 12], [\"Ellen\", 20], [\"Ellen\", 2], [\"Joe\", 14]]\n",
    "\n",
    "D_scores = {}\n",
    "\n",
    "for pair in scores_list:\n",
    "\n",
    "    name = pair[0]\n",
    "    score = pair[1]\n",
    "\n",
    "\n",
    "    if name in D_scores:\n",
    "        D_scores[name]+=score\n",
    "    else:\n",
    "        D_scores[name] =score\n",
    "    \n",
    "D_scores"
   ]
  },
  {
   "cell_type": "code",
   "execution_count": 11,
   "id": "ee07d2c2",
   "metadata": {},
   "outputs": [
    {
     "data": {
      "text/plain": [
       "tuple"
      ]
     },
     "execution_count": 11,
     "metadata": {},
     "output_type": "execute_result"
    }
   ],
   "source": [
    "a=(1,2)\n",
    "type(a)\n"
   ]
  },
  {
   "cell_type": "code",
   "execution_count": 12,
   "id": "6128dba8",
   "metadata": {},
   "outputs": [
    {
     "data": {
      "text/plain": [
       "(1, 2, 3, 4)"
      ]
     },
     "execution_count": 12,
     "metadata": {},
     "output_type": "execute_result"
    }
   ],
   "source": [
    "#concatenation\n",
    "(1,2) + (3,4)"
   ]
  },
  {
   "cell_type": "code",
   "execution_count": 13,
   "id": "0377dbd4",
   "metadata": {},
   "outputs": [
    {
     "data": {
      "text/plain": [
       "(4,)"
      ]
     },
     "execution_count": 13,
     "metadata": {},
     "output_type": "execute_result"
    }
   ],
   "source": [
    "#single number, must include a comma\n",
    "(4,)"
   ]
  },
  {
   "cell_type": "code",
   "execution_count": 14,
   "id": "0ff91840",
   "metadata": {},
   "outputs": [
    {
     "data": {
      "text/plain": [
       "(2, 3)"
      ]
     },
     "execution_count": 14,
     "metadata": {},
     "output_type": "execute_result"
    }
   ],
   "source": [
    "#Indexing works\n",
    "a=(1,2,3,4)\n",
    "a[1:3]"
   ]
  },
  {
   "cell_type": "code",
   "execution_count": 15,
   "id": "af0b09ab",
   "metadata": {},
   "outputs": [
    {
     "ename": "TypeError",
     "evalue": "'tuple' object does not support item assignment",
     "output_type": "error",
     "traceback": [
      "\u001b[0;31m---------------------------------------------------------------------------\u001b[0m",
      "\u001b[0;31mTypeError\u001b[0m                                 Traceback (most recent call last)",
      "\u001b[0;32m<ipython-input-15-4220dae797a1>\u001b[0m in \u001b[0;36m<module>\u001b[0;34m\u001b[0m\n\u001b[1;32m      1\u001b[0m \u001b[0mt\u001b[0m\u001b[0;34m=\u001b[0m\u001b[0;34m(\u001b[0m\u001b[0;36m1\u001b[0m\u001b[0;34m,\u001b[0m\u001b[0;36m2\u001b[0m\u001b[0;34m,\u001b[0m\u001b[0;36m3\u001b[0m\u001b[0;34m,\u001b[0m\u001b[0;36m4\u001b[0m\u001b[0;34m)\u001b[0m\u001b[0;34m\u001b[0m\u001b[0;34m\u001b[0m\u001b[0m\n\u001b[0;32m----> 2\u001b[0;31m \u001b[0mt\u001b[0m\u001b[0;34m[\u001b[0m\u001b[0;36m1\u001b[0m\u001b[0;34m]\u001b[0m\u001b[0;34m=\u001b[0m\u001b[0;36m0\u001b[0m\u001b[0;34m\u001b[0m\u001b[0;34m\u001b[0m\u001b[0m\n\u001b[0m",
      "\u001b[0;31mTypeError\u001b[0m: 'tuple' object does not support item assignment"
     ]
    }
   ],
   "source": [
    "#tuple is immutable\n",
    "t=(1,2,3,4)\n",
    "t[1]=0"
   ]
  },
  {
   "cell_type": "code",
   "execution_count": 16,
   "id": "0a2c7d24",
   "metadata": {},
   "outputs": [
    {
     "data": {
      "text/plain": [
       "10"
      ]
     },
     "execution_count": 16,
     "metadata": {},
     "output_type": "execute_result"
    }
   ],
   "source": [
    "#tuples can be object in for loop\n",
    "a=(1,2,3,4)\n",
    "total=0\n",
    "for i in a:\n",
    "    total+=i\n",
    "total"
   ]
  },
  {
   "cell_type": "code",
   "execution_count": 26,
   "id": "4ed7e66a",
   "metadata": {},
   "outputs": [
    {
     "data": {
      "text/plain": [
       "'Jake'"
      ]
     },
     "execution_count": 26,
     "metadata": {},
     "output_type": "execute_result"
    }
   ],
   "source": [
    "name = \"Jaqe\"\n",
    "correct_name = name.replace(\"q\",\"k\")\n",
    "\n",
    "name\n",
    "correct_name"
   ]
  },
  {
   "cell_type": "code",
   "execution_count": 28,
   "id": "b62c41f7",
   "metadata": {},
   "outputs": [
    {
     "data": {
      "text/plain": [
       "0"
      ]
     },
     "execution_count": 28,
     "metadata": {},
     "output_type": "execute_result"
    }
   ],
   "source": [
    "sentence = \"Hello World.\"\n",
    "\n",
    "sentence.find(\"f\")\n",
    "sentence.find(\"H\")"
   ]
  },
  {
   "cell_type": "code",
   "execution_count": 33,
   "id": "30e843e5",
   "metadata": {},
   "outputs": [
    {
     "data": {
      "text/plain": [
       "['I ', 'ent to the store']"
      ]
     },
     "execution_count": 33,
     "metadata": {},
     "output_type": "execute_result"
    }
   ],
   "source": [
    "line = \"I went to the store\"\n",
    "words = line.split(\" \")\n",
    "\n",
    "words"
   ]
  },
  {
   "cell_type": "code",
   "execution_count": 39,
   "id": "6af76ba0",
   "metadata": {},
   "outputs": [
    {
     "name": "stdout",
     "output_type": "stream",
     "text": [
      "I went to the store\n"
     ]
    }
   ],
   "source": [
    "line = \"    I went to the store.\" \n",
    "new_line = line.strip(' .')\n",
    "\n",
    "print(new_line)"
   ]
  },
  {
   "cell_type": "code",
   "execution_count": 43,
   "id": "b44e901a",
   "metadata": {},
   "outputs": [
    {
     "data": {
      "text/plain": [
       "['I', 'went', 'to', 'the', 'store']"
      ]
     },
     "execution_count": 43,
     "metadata": {},
     "output_type": "execute_result"
    }
   ],
   "source": [
    "line = \"    I went to the store.\" \n",
    "new_line = line.strip(' .').split(\" \")\n",
    "\n",
    "new_line"
   ]
  },
  {
   "cell_type": "code",
   "execution_count": 46,
   "id": "3a503748",
   "metadata": {},
   "outputs": [
    {
     "data": {
      "text/plain": [
       "[1, 2, 3, 4]"
      ]
     },
     "execution_count": 46,
     "metadata": {},
     "output_type": "execute_result"
    }
   ],
   "source": [
    "L = [1,2,3]\n",
    "#L+=[4]\n",
    "L.append(4) #save extra copy step\n",
    "\n",
    "L"
   ]
  },
  {
   "cell_type": "code",
   "execution_count": 47,
   "id": "93fae4af",
   "metadata": {},
   "outputs": [
    {
     "data": {
      "text/plain": [
       "[1, 4, 5]"
      ]
     },
     "execution_count": 47,
     "metadata": {},
     "output_type": "execute_result"
    }
   ],
   "source": [
    "L = [4,5,1]\n",
    "L.sort() #lose the original version order\n",
    "\n",
    "L"
   ]
  },
  {
   "cell_type": "code",
   "execution_count": 48,
   "id": "d6c82c7f",
   "metadata": {},
   "outputs": [
    {
     "name": "stdout",
     "output_type": "stream",
     "text": [
      "[1, 4, 5]\n",
      "[4, 5, 1]\n"
     ]
    }
   ],
   "source": [
    "L = [4,5,1]\n",
    "sorted_L = sorted(L)\n",
    "print(sorted_L)\n",
    "print(L)"
   ]
  },
  {
   "cell_type": "code",
   "execution_count": 68,
   "id": "de40c129",
   "metadata": {},
   "outputs": [
    {
     "data": {
      "text/plain": [
       "2"
      ]
     },
     "execution_count": 68,
     "metadata": {},
     "output_type": "execute_result"
    }
   ],
   "source": [
    "L = [4,5,1]\n",
    "index_five = sorted(L).index(5) #if cannot find 5 ex.10 will get an error, find will get -1\n",
    "index_five"
   ]
  },
  {
   "cell_type": "code",
   "execution_count": 58,
   "id": "2c78aca1",
   "metadata": {},
   "outputs": [
    {
     "data": {
      "text/plain": [
       "[1, 3, 8]"
      ]
     },
     "execution_count": 58,
     "metadata": {},
     "output_type": "execute_result"
    }
   ],
   "source": [
    "L=[4,5,1,5,12,3,4,1,5,7,8]\n",
    "\n",
    "find_fives=[]\n",
    "\n",
    "for i in range(len(L)):\n",
    "    if L[i]==5:\n",
    "        find_fives.append(i)\n",
    "    \n",
    "find_fives\n",
    "    "
   ]
  },
  {
   "cell_type": "code",
   "execution_count": 59,
   "id": "3e1a1ee4",
   "metadata": {},
   "outputs": [
    {
     "data": {
      "text/plain": [
       "[1, 3, 8]"
      ]
     },
     "execution_count": 59,
     "metadata": {},
     "output_type": "execute_result"
    }
   ],
   "source": [
    "#one line code for previous code\n",
    "find_fives = [i for i in range(len(L))if L[i]==5]\n",
    "find_fives"
   ]
  },
  {
   "cell_type": "code",
   "execution_count": 66,
   "id": "af0faa8c",
   "metadata": {},
   "outputs": [
    {
     "name": "stdout",
     "output_type": "stream",
     "text": [
      "None\n"
     ]
    }
   ],
   "source": [
    "L=[4,5,1,5,12,3,4,1,5,7,8]\n",
    "x=L.sort()\n",
    "\n",
    "print(x)"
   ]
  }
 ],
 "metadata": {
  "kernelspec": {
   "display_name": "Python 3",
   "language": "python",
   "name": "python3"
  },
  "language_info": {
   "codemirror_mode": {
    "name": "ipython",
    "version": 3
   },
   "file_extension": ".py",
   "mimetype": "text/x-python",
   "name": "python",
   "nbconvert_exporter": "python",
   "pygments_lexer": "ipython3",
   "version": "3.8.8"
  }
 },
 "nbformat": 4,
 "nbformat_minor": 5
}
