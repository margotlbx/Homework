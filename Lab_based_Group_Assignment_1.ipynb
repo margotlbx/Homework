{
  "nbformat": 4,
  "nbformat_minor": 0,
  "metadata": {
    "colab": {
      "name": "Lab-based Group Assignment 1.ipynb",
      "provenance": [],
      "collapsed_sections": [],
      "include_colab_link": true
    },
    "kernelspec": {
      "display_name": "Python 3",
      "language": "python",
      "name": "python3"
    },
    "language_info": {
      "codemirror_mode": {
        "name": "ipython",
        "version": 3
      },
      "file_extension": ".py",
      "mimetype": "text/x-python",
      "name": "python",
      "nbconvert_exporter": "python",
      "pygments_lexer": "ipython3",
      "version": "3.7.3"
    },
    "accelerator": "GPU"
  },
  "cells": [
    {
      "cell_type": "markdown",
      "metadata": {
        "id": "view-in-github",
        "colab_type": "text"
      },
      "source": [
        "<a href=\"https://colab.research.google.com/github/margotlbx/Homework/blob/main/Lab_based_Group_Assignment_1.ipynb\" target=\"_parent\"><img src=\"https://colab.research.google.com/assets/colab-badge.svg\" alt=\"Open In Colab\"/></a>"
      ]
    },
    {
      "cell_type": "markdown",
      "metadata": {
        "id": "sxnVgl0JvOgS"
      },
      "source": [
        "# Lab-based Group Assignment 1: \n",
        "## Prediction of Loyalty of Credit Applications for Risky Customers"
      ]
    },
    {
      "cell_type": "code",
      "source": [
        "from google.colab import drive\n",
        "drive.mount('/content/drive')"
      ],
      "metadata": {
        "colab": {
          "base_uri": "https://localhost:8080/"
        },
        "id": "GjGLD8Ui_uzC",
        "outputId": "c760752d-48cb-445c-ed09-3322cce1f2cd"
      },
      "execution_count": 6,
      "outputs": [
        {
          "output_type": "stream",
          "name": "stdout",
          "text": [
            "Drive already mounted at /content/drive; to attempt to forcibly remount, call drive.mount(\"/content/drive\", force_remount=True).\n"
          ]
        }
      ]
    },
    {
      "cell_type": "markdown",
      "metadata": {
        "id": "vsNLRgyDomPQ"
      },
      "source": [
        "<div class=\"LI-profile-badge\"  data-version=\"v1\" data-size=\"large\" data-locale=\"en_US\" data-type=\"horizontal\" data-theme=\"light\" data-vanity=\"drsalihtutun\"><a class=\"LI-simple-link\" href='https://www.linkedin.com/in/drsalihtutun/en-us?trk=profile-badge'>Salih Tutun, PhD</a></div>"
      ]
    },
    {
      "cell_type": "markdown",
      "metadata": {
        "id": "dr04_snkT4Is"
      },
      "source": [
        "![Imgur](https://i.imgur.com/4HJknC2.png)"
      ]
    },
    {
      "cell_type": "markdown",
      "metadata": {
        "id": "iudrhG8tvOgW"
      },
      "source": [
        "### Business Problem\n",
        "\n",
        "<font color='green'>Understand the uncertain loyalty level (for payment difficulties) of customers given his/her background information collected in the application process. </font>"
      ]
    },
    {
      "cell_type": "markdown",
      "metadata": {
        "id": "LWMDOSvrvOgV"
      },
      "source": [
        "### Business Objectives\n",
        "\n",
        "This application aims to identify patterns that indicate <font color='green'>if a customer has difficulty paying their installments</font> which may be used for taking actions such as denying the loan, reducing the amount of loan, lending (to risky applicants) at a higher interest rate, etc. And this will ensure that the consumers capable of repaying the loan will not be rejected.\n"
      ]
    },
    {
      "cell_type": "markdown",
      "metadata": {
        "id": "7h6xO-5KvOgT"
      },
      "source": [
        "![Imgur](https://i.imgur.com/tyqhhLR.png)\n",
        "\n",
        "**Credit:** Investopedia"
      ]
    },
    {
      "cell_type": "code",
      "metadata": {
        "id": "66O9bQeLEZIY",
        "colab": {
          "base_uri": "https://localhost:8080/"
        },
        "outputId": "f32b52b0-3421-4fd1-ee8f-8eef4d65d74d"
      },
      "source": [
        "#Mount with Google Drive\n",
        "from google.colab import drive\n",
        "drive.mount('/content/drive')"
      ],
      "execution_count": null,
      "outputs": [
        {
          "output_type": "stream",
          "name": "stdout",
          "text": [
            "Mounted at /content/drive\n"
          ]
        }
      ]
    },
    {
      "cell_type": "markdown",
      "metadata": {
        "id": "6-F0RJgxPCPm"
      },
      "source": [
        "\n",
        "\n",
        "### <font color='red'>**Q1: Please explore the given dataset** </font>"
      ]
    },
    {
      "cell_type": "markdown",
      "metadata": {
        "id": "n5LC_8IuvOgX"
      },
      "source": [
        "Read the dataset"
      ]
    },
    {
      "cell_type": "code",
      "metadata": {
        "id": "MwC4kpiovOgZ",
        "scrolled": true
      },
      "source": [
        "# Import the dataset named 'credit_data.csv' \n",
        "# The data is kind of large. Please only load the first 1000 rows. \n",
        "import pandas as pd  \n",
        "data = pd.read_csv('/content/drive/MyDrive/Colab Notebooks/Lab based Assignment 1/Dataset/Credit_Card_Dataset.csv', nrows = 1000).drop(\"Car Owner\",axis=1)"
      ],
      "execution_count": 7,
      "outputs": []
    },
    {
      "cell_type": "code",
      "metadata": {
        "id": "kel7FIYzAtKu",
        "colab": {
          "base_uri": "https://localhost:8080/",
          "height": 394
        },
        "outputId": "1551802a-6b59-4f3e-ea26-09e0961e49c2"
      },
      "source": [
        "#Column Description is shown below\n",
        "pd.read_csv('/content/drive/MyDrive/Colab Notebooks/Lab based Assignment 1/Dataset/Credit Card Column Description.csv', sep = ';', index_col = 0)"
      ],
      "execution_count": 8,
      "outputs": [
        {
          "output_type": "execute_result",
          "data": {
            "text/plain": [
              "                                                         Description\n",
              "Column Name                                                         \n",
              "Mobile Phone                  (0,1) 1: Client provided Mobile phone \n",
              "Work Phone                      (0,1) 1: Client provided Work phone \n",
              "Correct Phone Number  (0,1) 1: Phone numbers provided are reachable \n",
              "City Rating                                    (1,2,3) 1 is the best\n",
              "Region Rating              (1,2,3) 1 is the best                    \n",
              "House Owner                 (0,1) 1: Client owns certain real estate\n",
              "Car Owner                                 (0,1) 1: Client owns a car\n",
              "Income                                          Income of the client\n",
              "Document                (0,1) 1: Client provided additional document\n",
              "Target                     (0,1) 1: Client with payment difficulties"
            ],
            "text/html": [
              "\n",
              "  <div id=\"df-d6ed3f87-27ba-4717-b7cf-ba4251cc0bd2\">\n",
              "    <div class=\"colab-df-container\">\n",
              "      <div>\n",
              "<style scoped>\n",
              "    .dataframe tbody tr th:only-of-type {\n",
              "        vertical-align: middle;\n",
              "    }\n",
              "\n",
              "    .dataframe tbody tr th {\n",
              "        vertical-align: top;\n",
              "    }\n",
              "\n",
              "    .dataframe thead th {\n",
              "        text-align: right;\n",
              "    }\n",
              "</style>\n",
              "<table border=\"1\" class=\"dataframe\">\n",
              "  <thead>\n",
              "    <tr style=\"text-align: right;\">\n",
              "      <th></th>\n",
              "      <th>Description</th>\n",
              "    </tr>\n",
              "    <tr>\n",
              "      <th>Column Name</th>\n",
              "      <th></th>\n",
              "    </tr>\n",
              "  </thead>\n",
              "  <tbody>\n",
              "    <tr>\n",
              "      <th>Mobile Phone</th>\n",
              "      <td>(0,1) 1: Client provided Mobile phone</td>\n",
              "    </tr>\n",
              "    <tr>\n",
              "      <th>Work Phone</th>\n",
              "      <td>(0,1) 1: Client provided Work phone</td>\n",
              "    </tr>\n",
              "    <tr>\n",
              "      <th>Correct Phone Number</th>\n",
              "      <td>(0,1) 1: Phone numbers provided are reachable</td>\n",
              "    </tr>\n",
              "    <tr>\n",
              "      <th>City Rating</th>\n",
              "      <td>(1,2,3) 1 is the best</td>\n",
              "    </tr>\n",
              "    <tr>\n",
              "      <th>Region Rating</th>\n",
              "      <td>(1,2,3) 1 is the best</td>\n",
              "    </tr>\n",
              "    <tr>\n",
              "      <th>House Owner</th>\n",
              "      <td>(0,1) 1: Client owns certain real estate</td>\n",
              "    </tr>\n",
              "    <tr>\n",
              "      <th>Car Owner</th>\n",
              "      <td>(0,1) 1: Client owns a car</td>\n",
              "    </tr>\n",
              "    <tr>\n",
              "      <th>Income</th>\n",
              "      <td>Income of the client</td>\n",
              "    </tr>\n",
              "    <tr>\n",
              "      <th>Document</th>\n",
              "      <td>(0,1) 1: Client provided additional document</td>\n",
              "    </tr>\n",
              "    <tr>\n",
              "      <th>Target</th>\n",
              "      <td>(0,1) 1: Client with payment difficulties</td>\n",
              "    </tr>\n",
              "  </tbody>\n",
              "</table>\n",
              "</div>\n",
              "      <button class=\"colab-df-convert\" onclick=\"convertToInteractive('df-d6ed3f87-27ba-4717-b7cf-ba4251cc0bd2')\"\n",
              "              title=\"Convert this dataframe to an interactive table.\"\n",
              "              style=\"display:none;\">\n",
              "        \n",
              "  <svg xmlns=\"http://www.w3.org/2000/svg\" height=\"24px\"viewBox=\"0 0 24 24\"\n",
              "       width=\"24px\">\n",
              "    <path d=\"M0 0h24v24H0V0z\" fill=\"none\"/>\n",
              "    <path d=\"M18.56 5.44l.94 2.06.94-2.06 2.06-.94-2.06-.94-.94-2.06-.94 2.06-2.06.94zm-11 1L8.5 8.5l.94-2.06 2.06-.94-2.06-.94L8.5 2.5l-.94 2.06-2.06.94zm10 10l.94 2.06.94-2.06 2.06-.94-2.06-.94-.94-2.06-.94 2.06-2.06.94z\"/><path d=\"M17.41 7.96l-1.37-1.37c-.4-.4-.92-.59-1.43-.59-.52 0-1.04.2-1.43.59L10.3 9.45l-7.72 7.72c-.78.78-.78 2.05 0 2.83L4 21.41c.39.39.9.59 1.41.59.51 0 1.02-.2 1.41-.59l7.78-7.78 2.81-2.81c.8-.78.8-2.07 0-2.86zM5.41 20L4 18.59l7.72-7.72 1.47 1.35L5.41 20z\"/>\n",
              "  </svg>\n",
              "      </button>\n",
              "      \n",
              "  <style>\n",
              "    .colab-df-container {\n",
              "      display:flex;\n",
              "      flex-wrap:wrap;\n",
              "      gap: 12px;\n",
              "    }\n",
              "\n",
              "    .colab-df-convert {\n",
              "      background-color: #E8F0FE;\n",
              "      border: none;\n",
              "      border-radius: 50%;\n",
              "      cursor: pointer;\n",
              "      display: none;\n",
              "      fill: #1967D2;\n",
              "      height: 32px;\n",
              "      padding: 0 0 0 0;\n",
              "      width: 32px;\n",
              "    }\n",
              "\n",
              "    .colab-df-convert:hover {\n",
              "      background-color: #E2EBFA;\n",
              "      box-shadow: 0px 1px 2px rgba(60, 64, 67, 0.3), 0px 1px 3px 1px rgba(60, 64, 67, 0.15);\n",
              "      fill: #174EA6;\n",
              "    }\n",
              "\n",
              "    [theme=dark] .colab-df-convert {\n",
              "      background-color: #3B4455;\n",
              "      fill: #D2E3FC;\n",
              "    }\n",
              "\n",
              "    [theme=dark] .colab-df-convert:hover {\n",
              "      background-color: #434B5C;\n",
              "      box-shadow: 0px 1px 3px 1px rgba(0, 0, 0, 0.15);\n",
              "      filter: drop-shadow(0px 1px 2px rgba(0, 0, 0, 0.3));\n",
              "      fill: #FFFFFF;\n",
              "    }\n",
              "  </style>\n",
              "\n",
              "      <script>\n",
              "        const buttonEl =\n",
              "          document.querySelector('#df-d6ed3f87-27ba-4717-b7cf-ba4251cc0bd2 button.colab-df-convert');\n",
              "        buttonEl.style.display =\n",
              "          google.colab.kernel.accessAllowed ? 'block' : 'none';\n",
              "\n",
              "        async function convertToInteractive(key) {\n",
              "          const element = document.querySelector('#df-d6ed3f87-27ba-4717-b7cf-ba4251cc0bd2');\n",
              "          const dataTable =\n",
              "            await google.colab.kernel.invokeFunction('convertToInteractive',\n",
              "                                                     [key], {});\n",
              "          if (!dataTable) return;\n",
              "\n",
              "          const docLinkHtml = 'Like what you see? Visit the ' +\n",
              "            '<a target=\"_blank\" href=https://colab.research.google.com/notebooks/data_table.ipynb>data table notebook</a>'\n",
              "            + ' to learn more about interactive tables.';\n",
              "          element.innerHTML = '';\n",
              "          dataTable['output_type'] = 'display_data';\n",
              "          await google.colab.output.renderOutput(dataTable, element);\n",
              "          const docLink = document.createElement('div');\n",
              "          docLink.innerHTML = docLinkHtml;\n",
              "          element.appendChild(docLink);\n",
              "        }\n",
              "      </script>\n",
              "    </div>\n",
              "  </div>\n",
              "  "
            ]
          },
          "metadata": {},
          "execution_count": 8
        }
      ]
    },
    {
      "cell_type": "code",
      "metadata": {
        "id": "ismFosO9AtKl",
        "colab": {
          "base_uri": "https://localhost:8080/",
          "height": 363
        },
        "outputId": "a0c26c87-8cb9-47c5-8df6-c68d011b836b"
      },
      "source": [
        "# Please read house owner, income, document and target columns. \n",
        "#View the head of the data\n",
        "#We only look at three most related factors (House Owner, Income and Document) and the dependent variable Target\n",
        "data=data.loc[:,[\"House Owner\", \"Income\", \"Document\",\"Target\"]]\n",
        "data.head(10) "
      ],
      "execution_count": 9,
      "outputs": [
        {
          "output_type": "execute_result",
          "data": {
            "text/plain": [
              "   House Owner  Income  Document  Target\n",
              "0            1       1         1       0\n",
              "1            0       0         1       0\n",
              "2            1       0         0       1\n",
              "3            1       0         1       0\n",
              "4            1       0         0       0\n",
              "5            1       0         1       0\n",
              "6            1       0         0       1\n",
              "7            1       0         1       1\n",
              "8            1       0         1       0\n",
              "9            1       0         0       0"
            ],
            "text/html": [
              "\n",
              "  <div id=\"df-16d20b94-e765-4ad5-8324-faca82a3a30d\">\n",
              "    <div class=\"colab-df-container\">\n",
              "      <div>\n",
              "<style scoped>\n",
              "    .dataframe tbody tr th:only-of-type {\n",
              "        vertical-align: middle;\n",
              "    }\n",
              "\n",
              "    .dataframe tbody tr th {\n",
              "        vertical-align: top;\n",
              "    }\n",
              "\n",
              "    .dataframe thead th {\n",
              "        text-align: right;\n",
              "    }\n",
              "</style>\n",
              "<table border=\"1\" class=\"dataframe\">\n",
              "  <thead>\n",
              "    <tr style=\"text-align: right;\">\n",
              "      <th></th>\n",
              "      <th>House Owner</th>\n",
              "      <th>Income</th>\n",
              "      <th>Document</th>\n",
              "      <th>Target</th>\n",
              "    </tr>\n",
              "  </thead>\n",
              "  <tbody>\n",
              "    <tr>\n",
              "      <th>0</th>\n",
              "      <td>1</td>\n",
              "      <td>1</td>\n",
              "      <td>1</td>\n",
              "      <td>0</td>\n",
              "    </tr>\n",
              "    <tr>\n",
              "      <th>1</th>\n",
              "      <td>0</td>\n",
              "      <td>0</td>\n",
              "      <td>1</td>\n",
              "      <td>0</td>\n",
              "    </tr>\n",
              "    <tr>\n",
              "      <th>2</th>\n",
              "      <td>1</td>\n",
              "      <td>0</td>\n",
              "      <td>0</td>\n",
              "      <td>1</td>\n",
              "    </tr>\n",
              "    <tr>\n",
              "      <th>3</th>\n",
              "      <td>1</td>\n",
              "      <td>0</td>\n",
              "      <td>1</td>\n",
              "      <td>0</td>\n",
              "    </tr>\n",
              "    <tr>\n",
              "      <th>4</th>\n",
              "      <td>1</td>\n",
              "      <td>0</td>\n",
              "      <td>0</td>\n",
              "      <td>0</td>\n",
              "    </tr>\n",
              "    <tr>\n",
              "      <th>5</th>\n",
              "      <td>1</td>\n",
              "      <td>0</td>\n",
              "      <td>1</td>\n",
              "      <td>0</td>\n",
              "    </tr>\n",
              "    <tr>\n",
              "      <th>6</th>\n",
              "      <td>1</td>\n",
              "      <td>0</td>\n",
              "      <td>0</td>\n",
              "      <td>1</td>\n",
              "    </tr>\n",
              "    <tr>\n",
              "      <th>7</th>\n",
              "      <td>1</td>\n",
              "      <td>0</td>\n",
              "      <td>1</td>\n",
              "      <td>1</td>\n",
              "    </tr>\n",
              "    <tr>\n",
              "      <th>8</th>\n",
              "      <td>1</td>\n",
              "      <td>0</td>\n",
              "      <td>1</td>\n",
              "      <td>0</td>\n",
              "    </tr>\n",
              "    <tr>\n",
              "      <th>9</th>\n",
              "      <td>1</td>\n",
              "      <td>0</td>\n",
              "      <td>0</td>\n",
              "      <td>0</td>\n",
              "    </tr>\n",
              "  </tbody>\n",
              "</table>\n",
              "</div>\n",
              "      <button class=\"colab-df-convert\" onclick=\"convertToInteractive('df-16d20b94-e765-4ad5-8324-faca82a3a30d')\"\n",
              "              title=\"Convert this dataframe to an interactive table.\"\n",
              "              style=\"display:none;\">\n",
              "        \n",
              "  <svg xmlns=\"http://www.w3.org/2000/svg\" height=\"24px\"viewBox=\"0 0 24 24\"\n",
              "       width=\"24px\">\n",
              "    <path d=\"M0 0h24v24H0V0z\" fill=\"none\"/>\n",
              "    <path d=\"M18.56 5.44l.94 2.06.94-2.06 2.06-.94-2.06-.94-.94-2.06-.94 2.06-2.06.94zm-11 1L8.5 8.5l.94-2.06 2.06-.94-2.06-.94L8.5 2.5l-.94 2.06-2.06.94zm10 10l.94 2.06.94-2.06 2.06-.94-2.06-.94-.94-2.06-.94 2.06-2.06.94z\"/><path d=\"M17.41 7.96l-1.37-1.37c-.4-.4-.92-.59-1.43-.59-.52 0-1.04.2-1.43.59L10.3 9.45l-7.72 7.72c-.78.78-.78 2.05 0 2.83L4 21.41c.39.39.9.59 1.41.59.51 0 1.02-.2 1.41-.59l7.78-7.78 2.81-2.81c.8-.78.8-2.07 0-2.86zM5.41 20L4 18.59l7.72-7.72 1.47 1.35L5.41 20z\"/>\n",
              "  </svg>\n",
              "      </button>\n",
              "      \n",
              "  <style>\n",
              "    .colab-df-container {\n",
              "      display:flex;\n",
              "      flex-wrap:wrap;\n",
              "      gap: 12px;\n",
              "    }\n",
              "\n",
              "    .colab-df-convert {\n",
              "      background-color: #E8F0FE;\n",
              "      border: none;\n",
              "      border-radius: 50%;\n",
              "      cursor: pointer;\n",
              "      display: none;\n",
              "      fill: #1967D2;\n",
              "      height: 32px;\n",
              "      padding: 0 0 0 0;\n",
              "      width: 32px;\n",
              "    }\n",
              "\n",
              "    .colab-df-convert:hover {\n",
              "      background-color: #E2EBFA;\n",
              "      box-shadow: 0px 1px 2px rgba(60, 64, 67, 0.3), 0px 1px 3px 1px rgba(60, 64, 67, 0.15);\n",
              "      fill: #174EA6;\n",
              "    }\n",
              "\n",
              "    [theme=dark] .colab-df-convert {\n",
              "      background-color: #3B4455;\n",
              "      fill: #D2E3FC;\n",
              "    }\n",
              "\n",
              "    [theme=dark] .colab-df-convert:hover {\n",
              "      background-color: #434B5C;\n",
              "      box-shadow: 0px 1px 3px 1px rgba(0, 0, 0, 0.15);\n",
              "      filter: drop-shadow(0px 1px 2px rgba(0, 0, 0, 0.3));\n",
              "      fill: #FFFFFF;\n",
              "    }\n",
              "  </style>\n",
              "\n",
              "      <script>\n",
              "        const buttonEl =\n",
              "          document.querySelector('#df-16d20b94-e765-4ad5-8324-faca82a3a30d button.colab-df-convert');\n",
              "        buttonEl.style.display =\n",
              "          google.colab.kernel.accessAllowed ? 'block' : 'none';\n",
              "\n",
              "        async function convertToInteractive(key) {\n",
              "          const element = document.querySelector('#df-16d20b94-e765-4ad5-8324-faca82a3a30d');\n",
              "          const dataTable =\n",
              "            await google.colab.kernel.invokeFunction('convertToInteractive',\n",
              "                                                     [key], {});\n",
              "          if (!dataTable) return;\n",
              "\n",
              "          const docLinkHtml = 'Like what you see? Visit the ' +\n",
              "            '<a target=\"_blank\" href=https://colab.research.google.com/notebooks/data_table.ipynb>data table notebook</a>'\n",
              "            + ' to learn more about interactive tables.';\n",
              "          element.innerHTML = '';\n",
              "          dataTable['output_type'] = 'display_data';\n",
              "          await google.colab.output.renderOutput(dataTable, element);\n",
              "          const docLink = document.createElement('div');\n",
              "          docLink.innerHTML = docLinkHtml;\n",
              "          element.appendChild(docLink);\n",
              "        }\n",
              "      </script>\n",
              "    </div>\n",
              "  </div>\n",
              "  "
            ]
          },
          "metadata": {},
          "execution_count": 9
        }
      ]
    },
    {
      "cell_type": "code",
      "metadata": {
        "id": "M5VGSyzBAtKo",
        "colab": {
          "base_uri": "https://localhost:8080/",
          "height": 300
        },
        "outputId": "fbbe199a-f840-4340-fa5c-3cc8b68e8904"
      },
      "source": [
        "#View the main statistics of the data columns\n",
        "#You may use DataFrame.description() method\n",
        "data.describe()"
      ],
      "execution_count": 10,
      "outputs": [
        {
          "output_type": "execute_result",
          "data": {
            "text/plain": [
              "       House Owner       Income    Document       Target\n",
              "count  1000.000000  1000.000000  1000.00000  1000.000000\n",
              "mean      0.707000     0.070000     0.72300     0.335000\n",
              "std       0.455366     0.255275     0.44774     0.472227\n",
              "min       0.000000     0.000000     0.00000     0.000000\n",
              "25%       0.000000     0.000000     0.00000     0.000000\n",
              "50%       1.000000     0.000000     1.00000     0.000000\n",
              "75%       1.000000     0.000000     1.00000     1.000000\n",
              "max       1.000000     1.000000     1.00000     1.000000"
            ],
            "text/html": [
              "\n",
              "  <div id=\"df-6253c1cd-fa09-4d57-9d01-028721d04519\">\n",
              "    <div class=\"colab-df-container\">\n",
              "      <div>\n",
              "<style scoped>\n",
              "    .dataframe tbody tr th:only-of-type {\n",
              "        vertical-align: middle;\n",
              "    }\n",
              "\n",
              "    .dataframe tbody tr th {\n",
              "        vertical-align: top;\n",
              "    }\n",
              "\n",
              "    .dataframe thead th {\n",
              "        text-align: right;\n",
              "    }\n",
              "</style>\n",
              "<table border=\"1\" class=\"dataframe\">\n",
              "  <thead>\n",
              "    <tr style=\"text-align: right;\">\n",
              "      <th></th>\n",
              "      <th>House Owner</th>\n",
              "      <th>Income</th>\n",
              "      <th>Document</th>\n",
              "      <th>Target</th>\n",
              "    </tr>\n",
              "  </thead>\n",
              "  <tbody>\n",
              "    <tr>\n",
              "      <th>count</th>\n",
              "      <td>1000.000000</td>\n",
              "      <td>1000.000000</td>\n",
              "      <td>1000.00000</td>\n",
              "      <td>1000.000000</td>\n",
              "    </tr>\n",
              "    <tr>\n",
              "      <th>mean</th>\n",
              "      <td>0.707000</td>\n",
              "      <td>0.070000</td>\n",
              "      <td>0.72300</td>\n",
              "      <td>0.335000</td>\n",
              "    </tr>\n",
              "    <tr>\n",
              "      <th>std</th>\n",
              "      <td>0.455366</td>\n",
              "      <td>0.255275</td>\n",
              "      <td>0.44774</td>\n",
              "      <td>0.472227</td>\n",
              "    </tr>\n",
              "    <tr>\n",
              "      <th>min</th>\n",
              "      <td>0.000000</td>\n",
              "      <td>0.000000</td>\n",
              "      <td>0.00000</td>\n",
              "      <td>0.000000</td>\n",
              "    </tr>\n",
              "    <tr>\n",
              "      <th>25%</th>\n",
              "      <td>0.000000</td>\n",
              "      <td>0.000000</td>\n",
              "      <td>0.00000</td>\n",
              "      <td>0.000000</td>\n",
              "    </tr>\n",
              "    <tr>\n",
              "      <th>50%</th>\n",
              "      <td>1.000000</td>\n",
              "      <td>0.000000</td>\n",
              "      <td>1.00000</td>\n",
              "      <td>0.000000</td>\n",
              "    </tr>\n",
              "    <tr>\n",
              "      <th>75%</th>\n",
              "      <td>1.000000</td>\n",
              "      <td>0.000000</td>\n",
              "      <td>1.00000</td>\n",
              "      <td>1.000000</td>\n",
              "    </tr>\n",
              "    <tr>\n",
              "      <th>max</th>\n",
              "      <td>1.000000</td>\n",
              "      <td>1.000000</td>\n",
              "      <td>1.00000</td>\n",
              "      <td>1.000000</td>\n",
              "    </tr>\n",
              "  </tbody>\n",
              "</table>\n",
              "</div>\n",
              "      <button class=\"colab-df-convert\" onclick=\"convertToInteractive('df-6253c1cd-fa09-4d57-9d01-028721d04519')\"\n",
              "              title=\"Convert this dataframe to an interactive table.\"\n",
              "              style=\"display:none;\">\n",
              "        \n",
              "  <svg xmlns=\"http://www.w3.org/2000/svg\" height=\"24px\"viewBox=\"0 0 24 24\"\n",
              "       width=\"24px\">\n",
              "    <path d=\"M0 0h24v24H0V0z\" fill=\"none\"/>\n",
              "    <path d=\"M18.56 5.44l.94 2.06.94-2.06 2.06-.94-2.06-.94-.94-2.06-.94 2.06-2.06.94zm-11 1L8.5 8.5l.94-2.06 2.06-.94-2.06-.94L8.5 2.5l-.94 2.06-2.06.94zm10 10l.94 2.06.94-2.06 2.06-.94-2.06-.94-.94-2.06-.94 2.06-2.06.94z\"/><path d=\"M17.41 7.96l-1.37-1.37c-.4-.4-.92-.59-1.43-.59-.52 0-1.04.2-1.43.59L10.3 9.45l-7.72 7.72c-.78.78-.78 2.05 0 2.83L4 21.41c.39.39.9.59 1.41.59.51 0 1.02-.2 1.41-.59l7.78-7.78 2.81-2.81c.8-.78.8-2.07 0-2.86zM5.41 20L4 18.59l7.72-7.72 1.47 1.35L5.41 20z\"/>\n",
              "  </svg>\n",
              "      </button>\n",
              "      \n",
              "  <style>\n",
              "    .colab-df-container {\n",
              "      display:flex;\n",
              "      flex-wrap:wrap;\n",
              "      gap: 12px;\n",
              "    }\n",
              "\n",
              "    .colab-df-convert {\n",
              "      background-color: #E8F0FE;\n",
              "      border: none;\n",
              "      border-radius: 50%;\n",
              "      cursor: pointer;\n",
              "      display: none;\n",
              "      fill: #1967D2;\n",
              "      height: 32px;\n",
              "      padding: 0 0 0 0;\n",
              "      width: 32px;\n",
              "    }\n",
              "\n",
              "    .colab-df-convert:hover {\n",
              "      background-color: #E2EBFA;\n",
              "      box-shadow: 0px 1px 2px rgba(60, 64, 67, 0.3), 0px 1px 3px 1px rgba(60, 64, 67, 0.15);\n",
              "      fill: #174EA6;\n",
              "    }\n",
              "\n",
              "    [theme=dark] .colab-df-convert {\n",
              "      background-color: #3B4455;\n",
              "      fill: #D2E3FC;\n",
              "    }\n",
              "\n",
              "    [theme=dark] .colab-df-convert:hover {\n",
              "      background-color: #434B5C;\n",
              "      box-shadow: 0px 1px 3px 1px rgba(0, 0, 0, 0.15);\n",
              "      filter: drop-shadow(0px 1px 2px rgba(0, 0, 0, 0.3));\n",
              "      fill: #FFFFFF;\n",
              "    }\n",
              "  </style>\n",
              "\n",
              "      <script>\n",
              "        const buttonEl =\n",
              "          document.querySelector('#df-6253c1cd-fa09-4d57-9d01-028721d04519 button.colab-df-convert');\n",
              "        buttonEl.style.display =\n",
              "          google.colab.kernel.accessAllowed ? 'block' : 'none';\n",
              "\n",
              "        async function convertToInteractive(key) {\n",
              "          const element = document.querySelector('#df-6253c1cd-fa09-4d57-9d01-028721d04519');\n",
              "          const dataTable =\n",
              "            await google.colab.kernel.invokeFunction('convertToInteractive',\n",
              "                                                     [key], {});\n",
              "          if (!dataTable) return;\n",
              "\n",
              "          const docLinkHtml = 'Like what you see? Visit the ' +\n",
              "            '<a target=\"_blank\" href=https://colab.research.google.com/notebooks/data_table.ipynb>data table notebook</a>'\n",
              "            + ' to learn more about interactive tables.';\n",
              "          element.innerHTML = '';\n",
              "          dataTable['output_type'] = 'display_data';\n",
              "          await google.colab.output.renderOutput(dataTable, element);\n",
              "          const docLink = document.createElement('div');\n",
              "          docLink.innerHTML = docLinkHtml;\n",
              "          element.appendChild(docLink);\n",
              "        }\n",
              "      </script>\n",
              "    </div>\n",
              "  </div>\n",
              "  "
            ]
          },
          "metadata": {},
          "execution_count": 10
        }
      ]
    },
    {
      "cell_type": "code",
      "metadata": {
        "id": "RwqI3ZBPAtKr",
        "colab": {
          "base_uri": "https://localhost:8080/"
        },
        "outputId": "99f4b3e7-8e94-45ed-e47a-36945eae0aa5"
      },
      "source": [
        "#View the datatype of each column\n",
        "#You may use the DataFrame.info() method\n",
        "data.info()"
      ],
      "execution_count": 11,
      "outputs": [
        {
          "output_type": "stream",
          "name": "stdout",
          "text": [
            "<class 'pandas.core.frame.DataFrame'>\n",
            "RangeIndex: 1000 entries, 0 to 999\n",
            "Data columns (total 4 columns):\n",
            " #   Column       Non-Null Count  Dtype\n",
            "---  ------       --------------  -----\n",
            " 0   House Owner  1000 non-null   int64\n",
            " 1   Income       1000 non-null   int64\n",
            " 2   Document     1000 non-null   int64\n",
            " 3   Target       1000 non-null   int64\n",
            "dtypes: int64(4)\n",
            "memory usage: 31.4 KB\n"
          ]
        }
      ]
    },
    {
      "cell_type": "markdown",
      "metadata": {
        "id": "uL2g8eAePkBF"
      },
      "source": [
        "### <font color='red'>**Q2:Please prepare your dataset for the model** </font>"
      ]
    },
    {
      "cell_type": "code",
      "metadata": {
        "id": "A2yaoMG8vOgp",
        "colab": {
          "base_uri": "https://localhost:8080/",
          "height": 423
        },
        "outputId": "d1e0562f-da7d-4145-900f-eb598fe3b3d4"
      },
      "source": [
        "#Split the data into training set (80%) and testing set (20%)\n",
        "import numpy as np\n",
        "\n",
        "#Get all index first\n",
        "all_index = np.array(data.index)\n",
        "\n",
        "\n",
        "#Randomly select 80% of the index as training index\n",
        "#You may use np.random.choice() to sample from a set\n",
        "train_index = np.random.choice(all_index,size=int(1000*0.8),replace=False)\n",
        "\n",
        " \n",
        "#Get the rest as the test index\n",
        "#You may use np.setdiff1d() to get the complement set\n",
        "test_index = np.setdiff1d(all_index,train_index)\n",
        "\n",
        "\n",
        "#Split the data using the split index\n",
        "train_data = data.loc[train_index,]\n",
        "test_data = data.loc[test_index,]\n",
        "test_data"
      ],
      "execution_count": 12,
      "outputs": [
        {
          "output_type": "execute_result",
          "data": {
            "text/plain": [
              "     House Owner  Income  Document  Target\n",
              "2              1       0         0       1\n",
              "5              1       0         1       0\n",
              "7              1       0         1       1\n",
              "10             1       0         1       0\n",
              "12             1       0         1       0\n",
              "..           ...     ...       ...     ...\n",
              "987            1       0         1       0\n",
              "991            1       1         1       0\n",
              "993            1       0         1       1\n",
              "994            0       0         1       0\n",
              "997            1       0         1       1\n",
              "\n",
              "[200 rows x 4 columns]"
            ],
            "text/html": [
              "\n",
              "  <div id=\"df-763e4763-bb50-4f17-9281-ca596d8ca435\">\n",
              "    <div class=\"colab-df-container\">\n",
              "      <div>\n",
              "<style scoped>\n",
              "    .dataframe tbody tr th:only-of-type {\n",
              "        vertical-align: middle;\n",
              "    }\n",
              "\n",
              "    .dataframe tbody tr th {\n",
              "        vertical-align: top;\n",
              "    }\n",
              "\n",
              "    .dataframe thead th {\n",
              "        text-align: right;\n",
              "    }\n",
              "</style>\n",
              "<table border=\"1\" class=\"dataframe\">\n",
              "  <thead>\n",
              "    <tr style=\"text-align: right;\">\n",
              "      <th></th>\n",
              "      <th>House Owner</th>\n",
              "      <th>Income</th>\n",
              "      <th>Document</th>\n",
              "      <th>Target</th>\n",
              "    </tr>\n",
              "  </thead>\n",
              "  <tbody>\n",
              "    <tr>\n",
              "      <th>2</th>\n",
              "      <td>1</td>\n",
              "      <td>0</td>\n",
              "      <td>0</td>\n",
              "      <td>1</td>\n",
              "    </tr>\n",
              "    <tr>\n",
              "      <th>5</th>\n",
              "      <td>1</td>\n",
              "      <td>0</td>\n",
              "      <td>1</td>\n",
              "      <td>0</td>\n",
              "    </tr>\n",
              "    <tr>\n",
              "      <th>7</th>\n",
              "      <td>1</td>\n",
              "      <td>0</td>\n",
              "      <td>1</td>\n",
              "      <td>1</td>\n",
              "    </tr>\n",
              "    <tr>\n",
              "      <th>10</th>\n",
              "      <td>1</td>\n",
              "      <td>0</td>\n",
              "      <td>1</td>\n",
              "      <td>0</td>\n",
              "    </tr>\n",
              "    <tr>\n",
              "      <th>12</th>\n",
              "      <td>1</td>\n",
              "      <td>0</td>\n",
              "      <td>1</td>\n",
              "      <td>0</td>\n",
              "    </tr>\n",
              "    <tr>\n",
              "      <th>...</th>\n",
              "      <td>...</td>\n",
              "      <td>...</td>\n",
              "      <td>...</td>\n",
              "      <td>...</td>\n",
              "    </tr>\n",
              "    <tr>\n",
              "      <th>987</th>\n",
              "      <td>1</td>\n",
              "      <td>0</td>\n",
              "      <td>1</td>\n",
              "      <td>0</td>\n",
              "    </tr>\n",
              "    <tr>\n",
              "      <th>991</th>\n",
              "      <td>1</td>\n",
              "      <td>1</td>\n",
              "      <td>1</td>\n",
              "      <td>0</td>\n",
              "    </tr>\n",
              "    <tr>\n",
              "      <th>993</th>\n",
              "      <td>1</td>\n",
              "      <td>0</td>\n",
              "      <td>1</td>\n",
              "      <td>1</td>\n",
              "    </tr>\n",
              "    <tr>\n",
              "      <th>994</th>\n",
              "      <td>0</td>\n",
              "      <td>0</td>\n",
              "      <td>1</td>\n",
              "      <td>0</td>\n",
              "    </tr>\n",
              "    <tr>\n",
              "      <th>997</th>\n",
              "      <td>1</td>\n",
              "      <td>0</td>\n",
              "      <td>1</td>\n",
              "      <td>1</td>\n",
              "    </tr>\n",
              "  </tbody>\n",
              "</table>\n",
              "<p>200 rows × 4 columns</p>\n",
              "</div>\n",
              "      <button class=\"colab-df-convert\" onclick=\"convertToInteractive('df-763e4763-bb50-4f17-9281-ca596d8ca435')\"\n",
              "              title=\"Convert this dataframe to an interactive table.\"\n",
              "              style=\"display:none;\">\n",
              "        \n",
              "  <svg xmlns=\"http://www.w3.org/2000/svg\" height=\"24px\"viewBox=\"0 0 24 24\"\n",
              "       width=\"24px\">\n",
              "    <path d=\"M0 0h24v24H0V0z\" fill=\"none\"/>\n",
              "    <path d=\"M18.56 5.44l.94 2.06.94-2.06 2.06-.94-2.06-.94-.94-2.06-.94 2.06-2.06.94zm-11 1L8.5 8.5l.94-2.06 2.06-.94-2.06-.94L8.5 2.5l-.94 2.06-2.06.94zm10 10l.94 2.06.94-2.06 2.06-.94-2.06-.94-.94-2.06-.94 2.06-2.06.94z\"/><path d=\"M17.41 7.96l-1.37-1.37c-.4-.4-.92-.59-1.43-.59-.52 0-1.04.2-1.43.59L10.3 9.45l-7.72 7.72c-.78.78-.78 2.05 0 2.83L4 21.41c.39.39.9.59 1.41.59.51 0 1.02-.2 1.41-.59l7.78-7.78 2.81-2.81c.8-.78.8-2.07 0-2.86zM5.41 20L4 18.59l7.72-7.72 1.47 1.35L5.41 20z\"/>\n",
              "  </svg>\n",
              "      </button>\n",
              "      \n",
              "  <style>\n",
              "    .colab-df-container {\n",
              "      display:flex;\n",
              "      flex-wrap:wrap;\n",
              "      gap: 12px;\n",
              "    }\n",
              "\n",
              "    .colab-df-convert {\n",
              "      background-color: #E8F0FE;\n",
              "      border: none;\n",
              "      border-radius: 50%;\n",
              "      cursor: pointer;\n",
              "      display: none;\n",
              "      fill: #1967D2;\n",
              "      height: 32px;\n",
              "      padding: 0 0 0 0;\n",
              "      width: 32px;\n",
              "    }\n",
              "\n",
              "    .colab-df-convert:hover {\n",
              "      background-color: #E2EBFA;\n",
              "      box-shadow: 0px 1px 2px rgba(60, 64, 67, 0.3), 0px 1px 3px 1px rgba(60, 64, 67, 0.15);\n",
              "      fill: #174EA6;\n",
              "    }\n",
              "\n",
              "    [theme=dark] .colab-df-convert {\n",
              "      background-color: #3B4455;\n",
              "      fill: #D2E3FC;\n",
              "    }\n",
              "\n",
              "    [theme=dark] .colab-df-convert:hover {\n",
              "      background-color: #434B5C;\n",
              "      box-shadow: 0px 1px 3px 1px rgba(0, 0, 0, 0.15);\n",
              "      filter: drop-shadow(0px 1px 2px rgba(0, 0, 0, 0.3));\n",
              "      fill: #FFFFFF;\n",
              "    }\n",
              "  </style>\n",
              "\n",
              "      <script>\n",
              "        const buttonEl =\n",
              "          document.querySelector('#df-763e4763-bb50-4f17-9281-ca596d8ca435 button.colab-df-convert');\n",
              "        buttonEl.style.display =\n",
              "          google.colab.kernel.accessAllowed ? 'block' : 'none';\n",
              "\n",
              "        async function convertToInteractive(key) {\n",
              "          const element = document.querySelector('#df-763e4763-bb50-4f17-9281-ca596d8ca435');\n",
              "          const dataTable =\n",
              "            await google.colab.kernel.invokeFunction('convertToInteractive',\n",
              "                                                     [key], {});\n",
              "          if (!dataTable) return;\n",
              "\n",
              "          const docLinkHtml = 'Like what you see? Visit the ' +\n",
              "            '<a target=\"_blank\" href=https://colab.research.google.com/notebooks/data_table.ipynb>data table notebook</a>'\n",
              "            + ' to learn more about interactive tables.';\n",
              "          element.innerHTML = '';\n",
              "          dataTable['output_type'] = 'display_data';\n",
              "          await google.colab.output.renderOutput(dataTable, element);\n",
              "          const docLink = document.createElement('div');\n",
              "          docLink.innerHTML = docLinkHtml;\n",
              "          element.appendChild(docLink);\n",
              "        }\n",
              "      </script>\n",
              "    </div>\n",
              "  </div>\n",
              "  "
            ]
          },
          "metadata": {},
          "execution_count": 12
        }
      ]
    },
    {
      "cell_type": "markdown",
      "metadata": {
        "id": "hqhrHKkkXZuA"
      },
      "source": [
        "### <font color='red'>**Q3:Please define your activation functions and initialize the weights of the model** </font>"
      ]
    },
    {
      "cell_type": "code",
      "metadata": {
        "id": "KGeS6yugmp27"
      },
      "source": [
        "#Build your own neural network below and print out the MSE\n",
        "#If you meet difficulty, feel free to refer to \"M1.6. Building Neural Networks.ipynb\" \n",
        "\n",
        "#Define a non-linear function first\n",
        "#Don't forget to define the first order derivative of your non-linear function\n",
        "#To combine them together, we may add a parameter in the non-linear function\n",
        "\n",
        "import numpy as np\n",
        "\n",
        "def relu(x,deriv=False):\n",
        "    if(deriv==True):\n",
        "        \n",
        "        #return the first order derivative\n",
        "        return x>0\n",
        "    \n",
        "    #return the function\n",
        "    return (x>0)*x\n",
        "\n",
        "def sigm(x,deriv=False):\n",
        "    if(deriv==True):\n",
        "        return x*(1-x)\n",
        "\n",
        "    return 1/(1+np.exp(-x))"
      ],
      "execution_count": 13,
      "outputs": []
    },
    {
      "cell_type": "markdown",
      "metadata": {
        "id": "YZV-AEwphlcN"
      },
      "source": [
        "![Imgur](https://i.imgur.com/9TVc4LU.png)"
      ]
    },
    {
      "cell_type": "code",
      "metadata": {
        "id": "GGjFQpagms0a",
        "colab": {
          "base_uri": "https://localhost:8080/"
        },
        "outputId": "335cf4bf-8ca1-4507-d085-f51839a3989b"
      },
      "source": [
        "#What is your X value? House Owner, Income and Document. Those three factors are related to whether one can pay the installments.\n",
        "X = train_data.iloc[:,0:-1].values  # we can call X as a0 as well.\n",
        "    \n",
        "#What is your y value? Target. That is whether one can pay the installments.\n",
        "y = train_data.iloc[:,-1].values\n",
        "\n",
        "# You need to reshape your y data into a 2-dimensional array\n",
        "y = np.reshape(y,(train_data.shape[0],1)) \n",
        "\n",
        "    \n",
        "# randomly initialize our weights with as 2x-1\n",
        "w0 = 2*np.random.random((3,10)) - 1\n",
        "w1 = 2*np.random.random((10,1)) - 1\n",
        "\n",
        "w0, w1"
      ],
      "execution_count": 14,
      "outputs": [
        {
          "output_type": "execute_result",
          "data": {
            "text/plain": [
              "(array([[ 0.5854111 ,  0.81262352, -0.07840713,  0.16977461, -0.82026497,\n",
              "         -0.14610031,  0.11668515,  0.94233314, -0.83130901,  0.85980386],\n",
              "        [ 0.6004288 ,  0.82415477, -0.22557303,  0.03451909, -0.83566892,\n",
              "          0.17067682, -0.799332  , -0.94301374, -0.64321406,  0.78125728],\n",
              "        [-0.39248866,  0.35640503, -0.29711684,  0.43907109,  0.98425196,\n",
              "         -0.11668899, -0.21322548,  0.99731774, -0.9934868 , -0.24995036]]),\n",
              " array([[ 0.8612726 ],\n",
              "        [-0.85751432],\n",
              "        [ 0.12225793],\n",
              "        [-0.27418097],\n",
              "        [ 0.0899963 ],\n",
              "        [-0.52902975],\n",
              "        [ 0.94514868],\n",
              "        [-0.79586885],\n",
              "        [-0.21598241],\n",
              "        [ 0.2588551 ]]))"
            ]
          },
          "metadata": {},
          "execution_count": 14
        }
      ]
    },
    {
      "cell_type": "markdown",
      "metadata": {
        "id": "CjdFPJp0Oa7Q"
      },
      "source": [
        "![Imgur](https://i.imgur.com/85DTrAa.png)"
      ]
    },
    {
      "cell_type": "markdown",
      "metadata": {
        "id": "G4_I9RceXnUB"
      },
      "source": [
        "### <font color='red'>**Q4:Please train your neural networks** </font>"
      ]
    },
    {
      "cell_type": "code",
      "metadata": {
        "id": "tbCh_rgNMH7k",
        "colab": {
          "base_uri": "https://localhost:8080/"
        },
        "outputId": "f0173c1d-5a04-45ea-e25d-65e28e4f70c8"
      },
      "source": [
        "\n",
        "#Write a long enough loop to train your model and minimize the cost\n",
        "\n",
        "for j in range(60000):\n",
        "    \n",
        "    #forward propagation begins#\n",
        "    # Feed forward through layers 0, 1, and 2\n",
        "    a0 = X\n",
        "    a1 = sigm(np.dot(a0,w0))\n",
        "    a2 = sigm(np.dot(a1,w1))\n",
        "\n",
        "    # how much did we miss the target value?\n",
        "    a2_error= y - a2\n",
        "    #forward propagation ends#\n",
        "        \n",
        "    # in what direction is the target value?\n",
        "    # were we really sure? if so, don't change too much.\n",
        "    # Backpropagation begins#\n",
        "    a2_delta = a2_error*sigm(a2,deriv=True)\n",
        "\n",
        "    # how much did each a1 value contribute to the a2 error (according to the weights)?\n",
        "    a1_error = a2_delta.dot(w1.T)\n",
        "    \n",
        "    # in what direction is the target l1?\n",
        "    # were we really sure? if so, don't change too much.\n",
        "    a1_delta = a1_error * sigm(a1,deriv=True)\n",
        "    # the update of weights\n",
        "    w1 += a1.T.dot(a2_delta)\n",
        "    w0 += a0.T.dot(a1_delta)\n",
        "    # Backpropagation ends#\n",
        "#Let's convert the probability into binary result\n",
        "#1 means correct prediction; 0 means mistake\n",
        "train_result = [1 if np.abs(e) < 0.5 else 0 for e in a2_error]\n",
        "\n",
        "#what is our training accuracy\n",
        "np.mean(train_result)\n"
      ],
      "execution_count": 17,
      "outputs": [
        {
          "output_type": "execute_result",
          "data": {
            "text/plain": [
              "0.665"
            ]
          },
          "metadata": {},
          "execution_count": 17
        }
      ]
    },
    {
      "cell_type": "markdown",
      "metadata": {
        "id": "sVVIkJTgX2e-"
      },
      "source": [
        "### <font color='red'>**Q5:Please test your model with test dataset** </font>"
      ]
    },
    {
      "cell_type": "code",
      "metadata": {
        "id": "hkjrDzgbGrB5",
        "colab": {
          "base_uri": "https://localhost:8080/"
        },
        "outputId": "a5c71997-8c53-41a5-c11d-531633d2481b"
      },
      "source": [
        "#Define a function to get your test error\n",
        "#w0, w1 represent your trained model, test_data is your test data\n",
        "def my_net(w0, w1, test_data):\n",
        "\n",
        "    #Get your test data first\n",
        "    X = test_data.iloc[:,0:3].values            \n",
        "    y = test_data.iloc[:,3].values\n",
        "    y = np.reshape(y,(test_data.shape[0],1)) \n",
        "    \n",
        "    #Input your data in the first layer\n",
        "    a0 = X\n",
        "    \n",
        "    #Caculate the second layer\n",
        "    a1 = sigm(np.dot(a0,w0))\n",
        "    \n",
        "    #Caculate the third layer\n",
        "    a2 = sigm(np.dot(a1,w1))\n",
        "    \n",
        "    #What is your error?\n",
        "    a2_error = y - a2\n",
        "    \n",
        "    #Finally return your error\n",
        "    test_result = [1 if np.abs(e) < 0.5 else 0 for e in a2_error]\n",
        "    return np.mean(test_result)\n",
        "\n",
        "#Print the score\n",
        "my_score = my_net(w0, w1, test_data)\n",
        "print(\"Test Accuracy: \" + str(my_score))"
      ],
      "execution_count": 18,
      "outputs": [
        {
          "output_type": "stream",
          "name": "stdout",
          "text": [
            "Test Accuracy: 0.665\n"
          ]
        }
      ]
    },
    {
      "cell_type": "markdown",
      "metadata": {
        "id": "jr4diQ2bo7Ny"
      },
      "source": [
        "If you have questions, please contact with me.\n",
        "\n",
        "Salih Tutun, PhD\n",
        "\n",
        "salihtutun@wustl.edu"
      ]
    }
  ]
}