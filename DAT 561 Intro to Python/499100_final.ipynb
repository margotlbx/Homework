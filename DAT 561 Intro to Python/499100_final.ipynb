{
 "cells": [
  {
   "cell_type": "markdown",
   "metadata": {},
   "source": [
    "# Final (Fine Dining)"
   ]
  },
  {
   "cell_type": "code",
   "execution_count": 1,
   "metadata": {
    "deletable": false,
    "editable": false,
    "nbgrader": {
     "cell_type": "code",
     "checksum": "0cb113c2a251b353cf80fef8096aaf5c",
     "grade": false,
     "grade_id": "cell-a6370b714a5d4200",
     "locked": true,
     "schema_version": 3,
     "solution": false,
     "task": false
    }
   },
   "outputs": [],
   "source": [
    "import pandas as pd\n",
    "import numpy as np\n",
    "import datetime\n",
    "import pandas as pd"
   ]
  },
  {
   "cell_type": "markdown",
   "metadata": {
    "deletable": false,
    "editable": false,
    "nbgrader": {
     "cell_type": "markdown",
     "checksum": "9d3b6bf9bc6c0ee621218802f683785e",
     "grade": false,
     "grade_id": "cell-ecadebfb0881c771",
     "locked": true,
     "schema_version": 3,
     "solution": false,
     "task": false
    }
   },
   "source": [
    "In this final, you will be asked to analyze a data set containing historical reservations for a fine-dining restaurant that is stored in the file \"data/Reservation_Data.csv\".  This restaurant only accepts reservations booked online and hence does not accept walk in customers.   Each row in this data corresponds to a booked reservation.  The columns have the following meaning:\n",
    "- reservation\\_date: The date that the reservation was booked for. In other words, this is the date when the customer will dine.\n",
    "- reservation\\_time: The time that the reservation was booked for.\n",
    "- reservation\\_party\\_size: The size of the party for the corresponding reservation, i.e. the number of diners.\n",
    "- reservation_date_booked: the date on which the reservation was made.\n",
    "- datetime\\_booked: The date and time corresponding to when the reservation was made (in UTC). This column has missing values, which have been entered as \"#N/A\".  **The restaurant is located in a Pacific time zone.**\n",
    "\n",
    "Your goal in this final will be to undertand how customers schedule reservations at this restaurant.\n"
   ]
  },
  {
   "cell_type": "markdown",
   "metadata": {
    "deletable": false,
    "editable": false,
    "nbgrader": {
     "cell_type": "markdown",
     "checksum": "3afd80fff017f3189bff4832c9004a84",
     "grade": false,
     "grade_id": "cell-8b34c1110615ced2",
     "locked": true,
     "schema_version": 3,
     "solution": false,
     "task": false
    }
   },
   "source": [
    "## Problem 1 \n",
    "\n",
    "Your first task is to read in the data and do the following:\n",
    "\n",
    "- delete rows with missing values\n",
    "- convert datetime_booked to a datetime column with Pacific time zone\n",
    "- combine reservation_date and reservation time to create a new column called reservation_datetime that is a datetime column that has a Pacific time zone. So the final dataframe you return should have 6 columns in total.\n",
    "- Only keep reservations made at the following 8 time slots: 17:30, 17:45, 18:00, 18:15, 20:45, 21:00, 21:15, 21:30 (**Hint**: You need to use the reservation_datetime column to solve this).\n",
    "\n",
    "Return this modified version of the original data frame."
   ]
  },
  {
   "cell_type": "code",
   "execution_count": 2,
   "metadata": {
    "deletable": false,
    "nbgrader": {
     "cell_type": "code",
     "checksum": "121a9292908242362192baf4f6e9ea1e",
     "grade": false,
     "grade_id": "cell-f8e2796977445ec2",
     "locked": false,
     "schema_version": 3,
     "solution": true,
     "task": false
    }
   },
   "outputs": [],
   "source": [
    "def Read_Data():\n",
    "    \n",
    "    df_res = pd.read_csv(\"data/Reservation_Data.csv\", na_values=[\"#N/A\"])\n",
    "    # YOUR CODE HERE\n",
    "#     raise NotImplementedError()\n",
    "    \n",
    "    df_res.dropna(inplace=True)\n",
    "    df_res['datetime_booked'] = pd.to_datetime(df_res['datetime_booked']).dt.tz_localize(\"GMT\").dt.tz_convert('America/Los_Angeles').dt.tz_localize(None)\n",
    "    df_res['reservation_datetime'] = df_res.apply(lambda x: x['reservation_date'] + ' '+ x['reservation_time'], axis=1)\n",
    "    df_res['reservation_datetime'] = pd.to_datetime(df_res['reservation_datetime'])\n",
    "    \n",
    "    time_list = [\n",
    "        datetime.datetime.strptime(\"17:30\",\"%H:%M\").time(),\n",
    "        datetime.datetime.strptime(\"17:45\",\"%H:%M\").time(),\n",
    "        datetime.datetime.strptime(\"18:00\",\"%H:%M\").time(),\n",
    "        datetime.datetime.strptime(\"18:15\",\"%H:%M\").time(),\n",
    "        datetime.datetime.strptime(\"20:45\",\"%H:%M\").time(),\n",
    "        datetime.datetime.strptime(\"21:00\",\"%H:%M\").time(),\n",
    "        datetime.datetime.strptime(\"21:15\",\"%H:%M\").time(),\n",
    "        datetime.datetime.strptime(\"21:30\",\"%H:%M\").time(),\n",
    "                ]\n",
    "    df_res = df_res[df_res['reservation_datetime'].dt.time.isin(time_list)]\n",
    "    return df_res\n"
   ]
  },
  {
   "cell_type": "code",
   "execution_count": 3,
   "metadata": {
    "deletable": false,
    "editable": false,
    "nbgrader": {
     "cell_type": "code",
     "checksum": "3152a904200f0adb536d6e52593cb3da",
     "grade": true,
     "grade_id": "cell-8e06ac956a3298b6",
     "locked": true,
     "points": 1,
     "schema_version": 3,
     "solution": false,
     "task": false
    }
   },
   "outputs": [],
   "source": [
    "df_res = Read_Data()\n",
    "assert df_res.shape==(3359,6)"
   ]
  },
  {
   "cell_type": "code",
   "execution_count": 4,
   "metadata": {
    "deletable": false,
    "editable": false,
    "nbgrader": {
     "cell_type": "code",
     "checksum": "4933409bb628c25925aa6d233beca50e",
     "grade": true,
     "grade_id": "cell-bc6bcb76f94c1ebb",
     "locked": true,
     "points": 1,
     "schema_version": 3,
     "solution": false,
     "task": false
    }
   },
   "outputs": [],
   "source": [
    "assert list(df_res.columns) == ['reservation_date', 'reservation_time', 'reservation_party_size',\n",
    "                                'reservation_booked_date', 'datetime_booked', 'reservation_datetime']"
   ]
  },
  {
   "cell_type": "code",
   "execution_count": 5,
   "metadata": {
    "deletable": false,
    "editable": false,
    "nbgrader": {
     "cell_type": "code",
     "checksum": "1cf7e9aceccc864ebae0a31431b84441",
     "grade": true,
     "grade_id": "cell-6f9b424e23bb76f3",
     "locked": true,
     "points": 1,
     "schema_version": 3,
     "solution": false,
     "task": false
    }
   },
   "outputs": [],
   "source": [
    "assert np.isclose(df_res.datetime_booked.dt.hour.mean(), 13.55969)"
   ]
  },
  {
   "cell_type": "markdown",
   "metadata": {
    "deletable": false,
    "editable": false,
    "nbgrader": {
     "cell_type": "markdown",
     "checksum": "356e906179bbea4416318e97b173bb40",
     "grade": false,
     "grade_id": "cell-37198faa3114139a",
     "locked": true,
     "schema_version": 3,
     "solution": false,
     "task": false
    }
   },
   "source": [
    "## Problem 2 \n",
    "\n",
    "In this next part, we will write two functions to understand basic patterns in the data.\n",
    "\n",
    "The first function takes as input one of the eight reservation time slots that we are considering as a datetime time and it outputs the day of the week (as a string) with the smallest average party size of all reservation made for the given inputted time slot."
   ]
  },
  {
   "cell_type": "code",
   "execution_count": 6,
   "metadata": {
    "deletable": false,
    "nbgrader": {
     "cell_type": "code",
     "checksum": "c6e9bb6733f7cec19590c84dc051b920",
     "grade": false,
     "grade_id": "cell-6efce2d770d87f09",
     "locked": false,
     "schema_version": 3,
     "solution": true,
     "task": false
    }
   },
   "outputs": [],
   "source": [
    "import warnings\n",
    "warnings.filterwarnings(\"ignore\")\n",
    "\n",
    "def Get_Avg_Party_Size(res_time):\n",
    "    \n",
    "    smallest_dow = None\n",
    "    df_res = Read_Data()\n",
    "    # YOUR CODE HERE\n",
    "#     raise NotImplementedError()\n",
    "\n",
    "    weekday_transfer = {\n",
    "    0:'Monday',\n",
    "    1:'Tuesday',\n",
    "    2:'Wednesday',\n",
    "    3:'Thursday',\n",
    "    4:'Friday',\n",
    "    5:'Saturday',\n",
    "    6:'Sunday'\n",
    "    }\n",
    "    \n",
    "    tmp_df = df_res[df_res['reservation_datetime'].dt.time == res_time]\n",
    "    tmp_df['week'] = tmp_df['reservation_datetime'].dt.dayofweek\n",
    "    tmp_df = tmp_df.groupby('week')['reservation_party_size'].mean()\n",
    "    week = tmp_df.idxmin()\n",
    "    return weekday_transfer[week]"
   ]
  },
  {
   "cell_type": "code",
   "execution_count": 7,
   "metadata": {
    "deletable": false,
    "editable": false,
    "nbgrader": {
     "cell_type": "code",
     "checksum": "09f85c4ff99a5a62b03c358cbffd78e2",
     "grade": true,
     "grade_id": "cell-1af2677bc41ad9a8",
     "locked": true,
     "points": 1,
     "schema_version": 3,
     "solution": false,
     "task": false
    }
   },
   "outputs": [],
   "source": [
    "res_time = datetime.time(hour = 17, minute=30)\n",
    "assert Get_Avg_Party_Size(res_time)==\"Sunday\""
   ]
  },
  {
   "cell_type": "code",
   "execution_count": 8,
   "metadata": {
    "deletable": false,
    "editable": false,
    "nbgrader": {
     "cell_type": "code",
     "checksum": "17c254f8d9c35e1e1c336e360e3ac19c",
     "grade": true,
     "grade_id": "cell-a7a73527f473ef9f",
     "locked": true,
     "points": 1,
     "schema_version": 3,
     "solution": false,
     "task": false
    }
   },
   "outputs": [],
   "source": [
    "res_time = datetime.time(hour = 21, minute=0)\n",
    "assert Get_Avg_Party_Size(res_time)==\"Tuesday\""
   ]
  },
  {
   "cell_type": "markdown",
   "metadata": {
    "deletable": false,
    "editable": false,
    "nbgrader": {
     "cell_type": "markdown",
     "checksum": "096994c8a41b651cafd9b4e4b3f5fb92",
     "grade": false,
     "grade_id": "cell-5d04ed2a8ababbde",
     "locked": true,
     "schema_version": 3,
     "solution": false,
     "task": false
    }
   },
   "source": [
    "## Problem 3\n",
    "The second function I would like you to write takes as input a parameter called num_days (you may assume this is an integer), and it returns the fraction of reservations made by parties size 1/2 that are made at most num_days in advance, and then also the same fraction but just for parties of 3/4.\n",
    "\n",
    "**NOTE: The number of days in advance that a reservation is made is (reservation_datetime - datetime_booked).**"
   ]
  },
  {
   "cell_type": "code",
   "execution_count": 9,
   "metadata": {
    "deletable": false,
    "nbgrader": {
     "cell_type": "code",
     "checksum": "02dfddc53e358244b0439bda762ab4bd",
     "grade": false,
     "grade_id": "cell-9d59746d75cab577",
     "locked": false,
     "schema_version": 3,
     "solution": true,
     "task": false
    }
   },
   "outputs": [],
   "source": [
    "def Booked_in_Advance(num_days):\n",
    "    \n",
    "    df_res = Read_Data()\n",
    "    num_days = datetime.timedelta(days=num_days)\n",
    "    party_one_two = None\n",
    "    party_three_four = None\n",
    "    # YOUR CODE HERE\n",
    "        \n",
    "    df_res['state'] = df_res.apply(lambda x: 1 if (x['reservation_datetime'] - x['datetime_booked']).days < num_days.days else 0, axis=1)\n",
    "    df_state = df_res[df_res['state'] == 1]\n",
    "    \n",
    "    part_size_all_12 = df_state[(df_state['reservation_party_size']==1) | (df_state['reservation_party_size']==2)]\n",
    "    \n",
    "    part_size_all_34 = df_state[(df_state['reservation_party_size']==3) | (df_state['reservation_party_size']==4)]\n",
    "    \n",
    "    party_one_two = len(part_size_all_12)/len(df_res[(df_res['reservation_party_size']==1) | (df_res['reservation_party_size']==2)])\n",
    "    \n",
    "    party_three_four = len(part_size_all_34)/len(df_res[(df_res['reservation_party_size']==3) | (df_res['reservation_party_size']==4)])\n",
    "    \n",
    "    return party_one_two, party_three_four\n"
   ]
  },
  {
   "cell_type": "code",
   "execution_count": 10,
   "metadata": {
    "deletable": false,
    "editable": false,
    "nbgrader": {
     "cell_type": "code",
     "checksum": "0ac59ead298a25a1657de766491ffc79",
     "grade": true,
     "grade_id": "cell-ee68a7fd2e6f2307",
     "locked": true,
     "points": 1,
     "schema_version": 3,
     "solution": false,
     "task": false
    }
   },
   "outputs": [],
   "source": [
    "result = Booked_in_Advance(7)\n",
    "assert np.isclose(result[0],0.27188)"
   ]
  },
  {
   "cell_type": "code",
   "execution_count": 11,
   "metadata": {
    "deletable": false,
    "editable": false,
    "nbgrader": {
     "cell_type": "code",
     "checksum": "60a421bf1d2941cecbe86047c4107006",
     "grade": true,
     "grade_id": "cell-18cb4b7703e807f2",
     "locked": true,
     "points": 2,
     "schema_version": 3,
     "solution": false,
     "task": false
    }
   },
   "outputs": [],
   "source": [
    "result = Booked_in_Advance(100)\n",
    "assert np.isclose(result[1],0.860534)"
   ]
  },
  {
   "cell_type": "markdown",
   "metadata": {
    "deletable": false,
    "editable": false,
    "nbgrader": {
     "cell_type": "markdown",
     "checksum": "5d14f94343e1e646b8395a64ce7a814e",
     "grade": false,
     "grade_id": "cell-717b10921432360b",
     "locked": true,
     "schema_version": 3,
     "solution": false,
     "task": false
    }
   },
   "source": [
    "## Problem 4 \n",
    "\n",
    "Let's assume that there are two service periods:\n",
    "\n",
    "- Service Period 1 consists of time slots 17:30, 17:45, 18:00, 18:15\n",
    "- Service Period 2 consiss of time slots 20:45, 21:00, 21:15, 21:30\n",
    "\n",
    "The next function takes as input res_time, which is one of the eight times above as a datetime time.  Given the inputted time, you will exclusively focus this analysis on either Service Period 1 or 2. For example, if the inputted res_time is 17:45, you should only consider reservations made during Service Period 1. For each day, find the first reservation that books at res_time (datetime_booked tells you the order in which reservations were scheduled).  Within the given Service Period of interest, compute how many reservations have already been booked for the given day before this reservation for res_time was made.  If $k-1$ reservations have already been made, this means that res_time was first booked as the $k$-th reservation.  We will say the \"rank\" of reservation time res_time on this day was $k$. So, if res_time was the first time booked on a particular day for the relevant Service Period, its rank on this day is 1.  Return the average rank of res_time across all days in which a reservation for res_time was booked.\n",
    "\n",
    "**Notice:** If there are two ranks which have the same booking time, they will have the same rank. For example, in the following table, both the first and second table share Rank 2. \n",
    "\n",
    "| reservation_dat | reservation_time | datetime_booked | rank |\n",
    "|-----------------|------------------|-----------------|------|\n",
    "|     9/9/17      |    18:15:00      |2017-08-15 10:03:00| 1|\n",
    "|     9/9/17      |    18:00:00      |2017-08-15 10:04:00| 2|\n",
    "|     9/9/17      |    17:45:00      |2017-08-15 10:04:00| 2|\n",
    "|     9/9/17      |    17:30:00      |2017-08-15 10:05:00| 3|"
   ]
  },
  {
   "cell_type": "code",
   "execution_count": 12,
   "metadata": {
    "deletable": false,
    "nbgrader": {
     "cell_type": "code",
     "checksum": "91ba8edd837ba48eabbbfb2e6fcac208",
     "grade": false,
     "grade_id": "cell-abf0c5d86681721c",
     "locked": false,
     "schema_version": 3,
     "solution": true,
     "task": false
    }
   },
   "outputs": [],
   "source": [
    "def Get_Avg_Rank(res_time):\n",
    "\n",
    "    df_res = Read_Data()\n",
    "    avg_rank=None\n",
    "    # YOUR CODE HERE\n",
    "    \n",
    "    time_1 = [\n",
    "        datetime.time(hour = 17, minute=30),\n",
    "        datetime.time(hour = 17, minute=45),\n",
    "        datetime.time(hour = 18, minute=0),\n",
    "        datetime.time(hour = 18, minute=15)\n",
    "                ]\n",
    "    \n",
    "    time_2 = [\n",
    "        datetime.time(hour = 20, minute=45),\n",
    "        datetime.time(hour = 21, minute=0),\n",
    "        datetime.time(hour = 21, minute=15),\n",
    "        datetime.time(hour = 21, minute=30)\n",
    "                ]\n",
    "    \n",
    "    if res_time in time_1:\n",
    "        df_res_time = df_res[df_res['reservation_datetime'].dt.time.isin(time_1)]\n",
    "    else:\n",
    "        df_res_time = df_res[df_res['reservation_datetime'].dt.time.isin(time_2)]\n",
    "    \n",
    "    df_res_time = df_res_time[['reservation_datetime', 'datetime_booked', 'reservation_time']]\n",
    "    df_res_time['date_booked'] = df_res_time['datetime_booked'].dt.strftime('%Y-%m-%d')\n",
    "    df_res_time.sort_values(['datetime_booked'], inplace=True)\n",
    "    \n",
    "    # For each day, find the first reservation that books at res_time \n",
    "    # (datetime_booked tells you the order in which reservations were scheduled). \n",
    "    tmp_df = df_res_time[df_res_time['reservation_datetime'].dt.time == res_time]\n",
    "    tmp_df['date_booked'] = tmp_df['datetime_booked'].dt.strftime('%Y-%m-%d')\n",
    "    tmp_df['reservation_date'] = tmp_df['reservation_datetime']\n",
    "    tmp_df['reservation_date'] = tmp_df['reservation_date'].dt.strftime('%Y-%m-%d')\n",
    "    tmp_df.drop_duplicates(['reservation_date'], inplace=True)\n",
    "    \n",
    "    df_res_time['reservation_date'] = df_res_time['reservation_datetime'].dt.strftime('%Y-%m-%d')\n",
    "    \n",
    "    rank_list = []\n",
    "    for item in tmp_df.to_dict('records'):\n",
    "        datetime_booked = item['datetime_booked']\n",
    "        date_booked = item['date_booked']\n",
    "        reservation_datetime = item['reservation_datetime']\n",
    "        reservation_date = item['reservation_date']\n",
    "        \n",
    "        datetime_booked_df = df_res_time[\n",
    "            (df_res_time['datetime_booked'] < datetime_booked) \n",
    "          & (df_res_time['reservation_date'] == reservation_date)\n",
    "        ]\n",
    "        \n",
    "        datetime_booked_list = datetime_booked_df['datetime_booked'].to_list()\n",
    "        before_num = len(datetime_booked_list)\n",
    "#         before_num = len(set(datetime_booked_list))\n",
    "        \n",
    "        res_time_num = before_num + 1\n",
    "        rank_list.append(res_time_num)\n",
    "    \n",
    "    avg_rank = sum(rank_list)/len(rank_list)\n",
    "    return avg_rank"
   ]
  },
  {
   "cell_type": "code",
   "execution_count": 13,
   "metadata": {
    "deletable": false,
    "editable": false,
    "nbgrader": {
     "cell_type": "code",
     "checksum": "76b9e611cb43c0dc6a9e9e9892e45f8a",
     "grade": true,
     "grade_id": "cell-ad9edf80d95cdab5",
     "locked": true,
     "points": 2,
     "schema_version": 3,
     "solution": false,
     "task": false
    }
   },
   "outputs": [],
   "source": [
    "res_time = datetime.time(hour = 21, minute=30)\n",
    "assert np.isclose(Get_Avg_Rank(res_time),3.9035)"
   ]
  },
  {
   "cell_type": "code",
   "execution_count": 14,
   "metadata": {
    "deletable": false,
    "editable": false,
    "nbgrader": {
     "cell_type": "code",
     "checksum": "a6ebf85333e55fac9de81728fa66531c",
     "grade": true,
     "grade_id": "cell-8aae0d3b2e2c3558",
     "locked": true,
     "points": 2,
     "schema_version": 3,
     "solution": false,
     "task": false
    }
   },
   "outputs": [],
   "source": [
    "res_time = datetime.time(hour = 20, minute=45)\n",
    "assert np.isclose(Get_Avg_Rank(res_time),1.45714)"
   ]
  },
  {
   "cell_type": "code",
   "execution_count": 15,
   "metadata": {
    "deletable": false,
    "editable": false,
    "nbgrader": {
     "cell_type": "code",
     "checksum": "f3786ee744dffcea9d1c180bf79991f1",
     "grade": true,
     "grade_id": "cell-53cf652519609d83",
     "locked": true,
     "points": 2,
     "schema_version": 3,
     "solution": false,
     "task": false
    }
   },
   "outputs": [],
   "source": [
    "res_time = datetime.time(hour = 17, minute=30)\n",
    "assert np.isclose(Get_Avg_Rank(res_time),3.17690)"
   ]
  },
  {
   "cell_type": "code",
   "execution_count": 16,
   "metadata": {
    "deletable": false,
    "editable": false,
    "nbgrader": {
     "cell_type": "code",
     "checksum": "b230fc30cb7ed3ef9ee1bd5525dd5747",
     "grade": true,
     "grade_id": "cell-4311833c22279221",
     "locked": true,
     "points": 2,
     "schema_version": 3,
     "solution": false,
     "task": false
    }
   },
   "outputs": [],
   "source": [
    "res_time = datetime.time(hour = 17, minute=45)\n",
    "assert np.isclose(Get_Avg_Rank(res_time),2.77316)"
   ]
  },
  {
   "cell_type": "code",
   "execution_count": null,
   "metadata": {},
   "outputs": [],
   "source": []
  }
 ],
 "metadata": {
  "kernelspec": {
   "display_name": "Python 3",
   "language": "python",
   "name": "python3"
  },
  "language_info": {
   "codemirror_mode": {
    "name": "ipython",
    "version": 3
   },
   "file_extension": ".py",
   "mimetype": "text/x-python",
   "name": "python",
   "nbconvert_exporter": "python",
   "pygments_lexer": "ipython3",
   "version": "3.8.8"
  },
  "toc": {
   "nav_menu": {
    "height": "12px",
    "width": "252px"
   },
   "number_sections": true,
   "sideBar": true,
   "skip_h1_title": false,
   "toc_cell": false,
   "toc_position": {},
   "toc_section_display": "block",
   "toc_window_display": false
  }
 },
 "nbformat": 4,
 "nbformat_minor": 2
}
