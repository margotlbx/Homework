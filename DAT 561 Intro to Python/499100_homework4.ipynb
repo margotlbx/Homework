{
 "cells": [
  {
   "cell_type": "markdown",
   "metadata": {
    "deletable": false,
    "editable": false,
    "nbgrader": {
     "cell_type": "markdown",
     "checksum": "1315c3380cd1033295a5aabac3c5a4b9",
     "grade": false,
     "grade_id": "Data_Description",
     "locked": true,
     "schema_version": 3,
     "solution": false,
     "task": false
    }
   },
   "source": [
    "# Homework 4\n",
    "\n",
    "In this homework, you will writing two functions that will assign a final letter grade to each student.  The scores of each student on each assignment are given in \"Final_Grades.csv\". In this semester, there 6 homeworks (columns labeled HW_1, .., HW_6), 3 participation scores (column Part_1, Part_2, Part_3) and a midterm and final."
   ]
  },
  {
   "cell_type": "markdown",
   "metadata": {
    "deletable": false,
    "editable": false,
    "nbgrader": {
     "cell_type": "markdown",
     "checksum": "fe34aef8bba197ceee98e2cd95928515",
     "grade": false,
     "grade_id": "Problem_1_Description",
     "locked": true,
     "schema_version": 3,
     "solution": false,
     "task": false
    }
   },
   "source": [
    "## Problem 1\n",
    "Your first task is to write a function callled \"Get_Final_Perc\" that has the following three inputs:\n",
    "\n",
    "- HW_weight: The weight towards the final grade of the score on all homeworks.\n",
    "- Exam_weight: The weight towards the final grade of the midterm and final. You may exam the midterm and final are weighted equally\n",
    "- Part_weight: The weight towards the final grade of the score on all participation scores.\n",
    "\n",
    "IMPORTANT:  For the HW and participation categories, the final percentage is (# points earned)/(# of points possible).  So, for example, if there were two HWs and you got 10/10 and 7/8, your final percentage on HW would be 17/18.\n",
    "\n",
    "Inside of this function, you should\n",
    "\n",
    "- Read in the data set into a dataframe called df_grades.\n",
    "- Add to df_grades a column labeled \"Final_perc\", which gives the final percentage (this should be between 0 and 100 for each student) achieved by each student given the specified weighting scheme that is given as input.  Note that it may be helpful to add other columns along the way, this is okay.\n",
    "\n",
    "\n",
    "A few other things that you must keep in mind when writing this function\n",
    "\n",
    "- You should only consider students who have a score for all assignments (you can delete the rows corresponding to students with missing scores for any assignment). Hint: Recall that blanks in a csv are automatically read in as NAs.\n",
    "- You may assume that for each assignment, there was at least one student who received 100% on the assignment.  Furthermore, there was no extra credit on any assignment. Hint: this is how you can figure out the max score on each assignment.\n",
    "\n",
    " \n"
   ]
  },
  {
   "cell_type": "code",
   "execution_count": 128,
   "metadata": {
    "deletable": false,
    "nbgrader": {
     "cell_type": "code",
     "checksum": "8684740949e4fe4298c272bb858d2e8a",
     "grade": false,
     "grade_id": "Get_Final_Perc",
     "locked": false,
     "schema_version": 3,
     "solution": true,
     "task": false
    }
   },
   "outputs": [],
   "source": [
    "#Run this cell for your imports\n",
    "import pandas as pd\n",
    "import numpy as np\n",
    "\n",
    "def Get_Final_Perc(HW_weight, Exam_weight, Part_weight):\n",
    "\n",
    "    hw_cols = ['HW_1','HW_2','HW_3','HW_4','HW_5','HW_6']\n",
    "    part_cols = ['Part_1','Part_2','Part_3']\n",
    "\n",
    "    df_grades = pd.read_csv(\"./Data/Final_Grades.csv\")\n",
    "    \n",
    "    \n",
    "    \n",
    "    df_grades['hw_earned_points'] = df_grades[hw_cols].sum(axis=1,skipna=True, numeric_only=True)\n",
    "    df_grades['hw_possible_points'] = df_grades[hw_cols].max().sum()\n",
    "    df_grades['hw_perc'] = df_grades['hw_earned_points'] / df_grades['hw_possible_points']\n",
    "    \n",
    "    \n",
    "    df_grades['part_earned_points'] = df_grades[part_cols].sum(axis=1,skipna=True, numeric_only=True)\n",
    "    df_grades['part_possible_points'] = df_grades[part_cols].max().sum()\n",
    "    df_grades['part_perc'] = df_grades['part_earned_points'] / df_grades['part_possible_points']\n",
    "\n",
    "    df_grades['mid_exam_perc'] = df_grades['Midterm'] / df_grades['Midterm'].max()\n",
    "    df_grades['final_exam_perc'] = df_grades['Final'] / df_grades['Final'].max()\n",
    "\n",
    "    df_grades['Final_perc'] =  df_grades['hw_perc'] * HW_weight + df_grades['part_perc'] * Part_weight \\\n",
    "        + (df_grades['mid_exam_perc'] + df_grades['final_exam_perc'] ) * Exam_weight\n",
    "\n",
    "    \n",
    "    return df_grades"
   ]
  },
  {
   "cell_type": "code",
   "execution_count": 129,
   "metadata": {
    "deletable": false,
    "editable": false,
    "nbgrader": {
     "cell_type": "code",
     "checksum": "cc8519ad2bfd185b7bf15b815cd84483",
     "grade": true,
     "grade_id": "Test_1_1",
     "locked": true,
     "points": 1,
     "schema_version": 3,
     "solution": false,
     "task": false
    }
   },
   "outputs": [],
   "source": [
    "assert np.isclose(Get_Final_Perc(40, 25, 10).Final_perc.mean(),88.711)"
   ]
  },
  {
   "cell_type": "code",
   "execution_count": 130,
   "metadata": {
    "deletable": false,
    "editable": false,
    "nbgrader": {
     "cell_type": "code",
     "checksum": "a80c1848917b0de62712e1d3cf90effe",
     "grade": true,
     "grade_id": "Test_1_2",
     "locked": true,
     "points": 1,
     "schema_version": 3,
     "solution": false,
     "task": false
    }
   },
   "outputs": [],
   "source": [
    "assert np.isclose(Get_Final_Perc(100, 0, 0).Final_perc.mean(),97.426)"
   ]
  },
  {
   "cell_type": "code",
   "execution_count": 131,
   "metadata": {
    "deletable": false,
    "editable": false,
    "nbgrader": {
     "cell_type": "code",
     "checksum": "5cb20814573da5343513c19931b00c06",
     "grade": true,
     "grade_id": "Test_1_3",
     "locked": true,
     "points": 1,
     "schema_version": 3,
     "solution": false,
     "task": false
    }
   },
   "outputs": [],
   "source": [
    "assert np.isclose(Get_Final_Perc(1, 49, 1).Final_perc.mean(),81.4978754798834)"
   ]
  },
  {
   "cell_type": "markdown",
   "metadata": {
    "deletable": false,
    "editable": false,
    "nbgrader": {
     "cell_type": "markdown",
     "checksum": "8abd3ab8ee0f351dac25f1913ccff0f8",
     "grade": false,
     "grade_id": "Problem_2_Description",
     "locked": true,
     "schema_version": 3,
     "solution": false,
     "task": false
    }
   },
   "source": [
    "## Problem 2\n",
    "Your second and final task is to write a function called \"Assign_Grades\", which as the following two inputs:\n",
    "\n",
    "- df_grades_w_final_perc: This is the df_grades dataframe with the Final_Perc column added to it.  In other words, you may assume that df_grades_w_final_perc has a column called Final_perc which is each student's final percentage.\n",
    "\n",
    "- cutoffs: This is a list that always as 4 entries.  The first entry is the minimum score needed for an \"A\", the second entry is the minumum score needed for a \"B\", the third entry is the minumum score needed for a \"C\" and the last entry is the miminum score need for a \"D\". Any score below this fourth entry is awarded an \"F\".  You may assume that all cutoffs are unique so you don't have to worry about ties. Finally, you may assume that the cutoffs for better grades are always higher than the cutoffs for lower grades.\n",
    "\n",
    "You goal is to add to df_grades_w_final_perc a column called \"letter\", which contains each student's letter grade (as a string, i.e. an A should added as \"A\") according to the inputted cutoff points.\n",
    "\n",
    "Hint: The pandas method \"cut\" could be very helpful here."
   ]
  },
  {
   "cell_type": "code",
   "execution_count": 132,
   "metadata": {
    "deletable": false,
    "nbgrader": {
     "cell_type": "code",
     "checksum": "0482f968a1856be9d75a65d25793ff07",
     "grade": false,
     "grade_id": "Assign_Grades",
     "locked": false,
     "schema_version": 3,
     "solution": true,
     "task": false
    }
   },
   "outputs": [],
   "source": [
    "def Assign_Grades(df_grades_w_final_perc, cutoffs):\n",
    "    min_score = -10000\n",
    "    max_score = 10000\n",
    "    bins = [min_score] + sorted(cutoffs) + [max_score]\n",
    "    labels=['F','D','C','B','A']\n",
    "    df_grades_w_final_perc['letter'] = pd.cut(df_grades_w_final_perc['Final_perc'],bins,labels=labels, right=False)\n",
    "    \n",
    "    return df_grades_w_final_perc.letter.value_counts()"
   ]
  },
  {
   "cell_type": "code",
   "execution_count": 133,
   "metadata": {
    "deletable": false,
    "editable": false,
    "nbgrader": {
     "cell_type": "code",
     "checksum": "888ec02a61db296a821fcbbbc069d2eb",
     "grade": true,
     "grade_id": "Test_2_1",
     "locked": true,
     "points": 1,
     "schema_version": 3,
     "solution": false,
     "task": false
    }
   },
   "outputs": [],
   "source": [
    "df_grades = Get_Final_Perc(40, 25, 10)\n",
    "cutoffs = [90,80,70,60]\n",
    "assert Assign_Grades(df_grades, cutoffs)[\"A\"]==49\n"
   ]
  },
  {
   "cell_type": "code",
   "execution_count": 134,
   "metadata": {
    "deletable": false,
    "editable": false,
    "nbgrader": {
     "cell_type": "code",
     "checksum": "3b0260882f64c7490e334c37a50221f8",
     "grade": true,
     "grade_id": "Test_2_2",
     "locked": true,
     "points": 1,
     "schema_version": 3,
     "solution": false,
     "task": false
    }
   },
   "outputs": [],
   "source": [
    "df_grades = Get_Final_Perc(100, 0, 0)\n",
    "cutoffs = [100,80,70,60]\n",
    "assert Assign_Grades(df_grades, cutoffs)[\"A\"]==27"
   ]
  },
  {
   "cell_type": "code",
   "execution_count": null,
   "metadata": {},
   "outputs": [],
   "source": []
  }
 ],
 "metadata": {
  "kernelspec": {
   "display_name": "Python 3",
   "language": "python",
   "name": "python3"
  },
  "language_info": {
   "codemirror_mode": {
    "name": "ipython",
    "version": 3
   },
   "file_extension": ".py",
   "mimetype": "text/x-python",
   "name": "python",
   "nbconvert_exporter": "python",
   "pygments_lexer": "ipython3",
   "version": "3.8.8"
  }
 },
 "nbformat": 4,
 "nbformat_minor": 4
}
