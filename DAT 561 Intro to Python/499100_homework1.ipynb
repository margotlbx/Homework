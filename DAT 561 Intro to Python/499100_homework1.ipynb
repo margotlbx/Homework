{
 "cells": [
  {
   "cell_type": "markdown",
   "metadata": {
    "deletable": false,
    "editable": false,
    "nbgrader": {
     "cell_type": "markdown",
     "checksum": "7d44ba32e6f4fa05f666c6ca59eeafcb",
     "grade": false,
     "grade_id": "cell-a4c41f39205051c2",
     "locked": true,
     "schema_version": 3,
     "solution": false
    }
   },
   "source": [
    "# Homework 1\n",
    "\n",
    "\n",
    "## Problem 1 (If-statment)\n",
    "\n",
    "If statement:\n",
    "\n",
    "Given an integer n, perform the following conditional actions:\n",
    "\n",
    "    If n is odd, set output to \"Hello World\"\n",
    "    If n is even and in the inclusive range of 2 to 5, set output to \"Goodbye World\"\n",
    "    If n is even and in the inclusive range of 6 to 20, set output to \"Hello World\"\n",
    "    If n is even and greater than 20, set output to \"Goodbye World\"\n",
    "\n",
    "Example:\n",
    "\n",
    "    -- Input: n = 2\n",
    "    -- Output: output = \"Goodbye World\""
   ]
  },
  {
   "cell_type": "code",
   "execution_count": 2,
   "metadata": {
    "deletable": false,
    "nbgrader": {
     "cell_type": "code",
     "checksum": "aa515f7b452c349aea8b934f4af15e0b",
     "grade": false,
     "grade_id": "cell-b78086c290d4a60c",
     "locked": false,
     "schema_version": 3,
     "solution": true
    }
   },
   "outputs": [],
   "source": [
    "def problem1(n):\n",
    "    output = 0\n",
    "    \n",
    "    if n % 2 == 1:\n",
    "        output = 'Hello World'\n",
    "    else:\n",
    "        if 2 <= n <= 5:\n",
    "            output = 'Goodbye World'\n",
    "        elif 6 <= n <= 20:\n",
    "            output = 'Hello World'\n",
    "        else:\n",
    "            output = 'Goodbye World'\n",
    "    \n",
    "    return(output)"
   ]
  },
  {
   "cell_type": "code",
   "execution_count": 5,
   "metadata": {
    "deletable": false,
    "editable": false,
    "nbgrader": {
     "cell_type": "code",
     "checksum": "62cfc000ae61270d2be32995408b867c",
     "grade": true,
     "grade_id": "cell-2853176972493b6e",
     "locked": true,
     "points": 25,
     "schema_version": 3,
     "solution": false
    }
   },
   "outputs": [],
   "source": [
    "assert problem1(3) == \"Hello World\"\n",
    "assert problem1(2) == \"Goodbye World\"\n",
    "assert problem1(18) == \"Hello World\""
   ]
  },
  {
   "cell_type": "code",
   "execution_count": 7,
   "metadata": {
    "deletable": false,
    "editable": false,
    "nbgrader": {
     "cell_type": "code",
     "checksum": "d8f8125d13f086c6af26f122785d5b33",
     "grade": true,
     "grade_id": "cell-b16dd3056b5a9f95",
     "locked": true,
     "points": 25,
     "schema_version": 3,
     "solution": false
    }
   },
   "outputs": [],
   "source": [
    "assert problem1(29) == \"Hello World\"\n",
    "assert problem1(24) == \"Goodbye World\""
   ]
  },
  {
   "cell_type": "markdown",
   "metadata": {
    "deletable": false,
    "editable": false,
    "nbgrader": {
     "cell_type": "markdown",
     "checksum": "de6c5ee2bd77c081cf9691ce2ff16c80",
     "grade": false,
     "grade_id": "cell-1c14a1786a26dc5a",
     "locked": true,
     "schema_version": 3,
     "solution": false
    }
   },
   "source": [
    "## Problem 2 (For-loop, basic list manipulation)\n",
    "\n",
    "You and $K-1$ friends want to buy $N$ different pieces of candy.  Candy piece $i$ costs $p_i$. The candy shop owner is greedy and wants to maximize his number of new customers, so he increases the sale price of the candy for repeated customers; more precisely, if a customer has already purchased $x$ pieces of candy, then the cost of candy $i$ is $C_i*(x+1)$.\n",
    "\n",
    "Find and print the minimum cost for your group to purchase all $N$ pieces of candy.\n",
    "\n",
    "The input:\n",
    "\n",
    "    N: the number of candies to buy\n",
    "    K: the number of people\n",
    "    C: the cost of candy\n",
    "\n",
    "The output:\n",
    "\n",
    "    the total cost\n",
    "\n",
    "**Hint:** You may want to use the list comprehension function.\n",
    "\n",
    "\n",
    "Example:\n",
    "\n",
    "    --Input: \n",
    "        N = 4\n",
    "        K = 2\n",
    "        C = [1,3,4,5]\n",
    "\n",
    "    --Output:\n",
    "        cost = 4 + 5 + 3 * 2 + 1 * 2 = 17\n",
    "\n",
    "(Why 17 is the minimum cost in this case? You would always like your group to purchase the most expensive candies first. In this way, you will get the multipliers on candy costs for the cheap candies. In this case, two people in your group first purchase candies with costs 4 and 5. And then they will purchase candies with costs 3 and 1. When purchasing candies with costs 3 and 1, both of persons in your group are repeated customers, so they pay 3\\*2 and 1\\*2.)\n",
    "\n"
   ]
  },
  {
   "cell_type": "code",
   "execution_count": 10,
   "metadata": {
    "deletable": false,
    "nbgrader": {
     "cell_type": "code",
     "checksum": "7725000c9ee29de705fef155ca5d9a8b",
     "grade": false,
     "grade_id": "cell-562beecb93f03f23",
     "locked": false,
     "schema_version": 3,
     "solution": true
    }
   },
   "outputs": [],
   "source": [
    "def problem2(N, K, C):\n",
    "    #sort costs decreasing\n",
    "    C = sorted(C,reverse = True)\n",
    "    \n",
    "    #variable to store the cost\n",
    "    cost = 0\n",
    "    \n",
    "    f_id = 1  # friend id. We want count to loop from 1 to K\n",
    "    multiplier = 1\n",
    "    for i in range(N):\n",
    "        if f_id <= K:\n",
    "            pass\n",
    "        else:\n",
    "            multiplier += 1\n",
    "            f_id = 1\n",
    "        print('Cake: {}, friend: {}, multiplier: {}'.format(i, f_id, multiplier))\n",
    "        cost += C[i] * multiplier\n",
    "        f_id += 1\n",
    "\n",
    "    return(cost)\n"
   ]
  },
  {
   "cell_type": "code",
   "execution_count": 11,
   "metadata": {
    "deletable": false,
    "editable": false,
    "nbgrader": {
     "cell_type": "code",
     "checksum": "81aed62856603ba812199d5cd7fd8e9c",
     "grade": true,
     "grade_id": "cell-681343a4d7e22bbd",
     "locked": true,
     "points": 25,
     "schema_version": 3,
     "solution": false
    }
   },
   "outputs": [
    {
     "name": "stdout",
     "output_type": "stream",
     "text": [
      "Cake: 0, friend: 1, multiplier: 1\n",
      "Cake: 1, friend: 2, multiplier: 1\n",
      "Cake: 2, friend: 3, multiplier: 1\n",
      "Cake: 3, friend: 4, multiplier: 1\n",
      "Cake: 4, friend: 5, multiplier: 1\n",
      "Cake: 5, friend: 6, multiplier: 1\n",
      "Cake: 6, friend: 7, multiplier: 1\n",
      "Cake: 7, friend: 8, multiplier: 1\n",
      "Cake: 8, friend: 9, multiplier: 1\n",
      "Cake: 9, friend: 10, multiplier: 1\n",
      "Cake: 10, friend: 11, multiplier: 1\n",
      "Cake: 11, friend: 12, multiplier: 1\n",
      "Cake: 12, friend: 13, multiplier: 1\n",
      "Cake: 13, friend: 14, multiplier: 1\n",
      "Cake: 14, friend: 15, multiplier: 1\n",
      "Cake: 15, friend: 16, multiplier: 1\n",
      "Cake: 16, friend: 17, multiplier: 1\n",
      "Cake: 17, friend: 18, multiplier: 1\n",
      "Cake: 18, friend: 19, multiplier: 1\n"
     ]
    }
   ],
   "source": [
    "# Test cases for Problem Set 4\n",
    "import random\n",
    "random.seed(100)\n",
    "N=random.randint(1,100) \n",
    "K=random.randint(1,100)   \n",
    "C = [random.randint(1,1000) for i in range(N)]\n",
    "assert problem2(N, K, C) == 8838"
   ]
  },
  {
   "cell_type": "code",
   "execution_count": 12,
   "metadata": {
    "deletable": false,
    "editable": false,
    "nbgrader": {
     "cell_type": "code",
     "checksum": "905fe1877666d60eee4b5bc91155fb80",
     "grade": true,
     "grade_id": "cell-402bf89f76c4bd42",
     "locked": true,
     "points": 25,
     "schema_version": 3,
     "solution": false
    }
   },
   "outputs": [
    {
     "name": "stdout",
     "output_type": "stream",
     "text": [
      "Cake: 0, friend: 1, multiplier: 1\n",
      "Cake: 1, friend: 2, multiplier: 1\n",
      "Cake: 2, friend: 3, multiplier: 1\n",
      "Cake: 3, friend: 4, multiplier: 1\n",
      "Cake: 4, friend: 5, multiplier: 1\n",
      "Cake: 5, friend: 1, multiplier: 2\n",
      "Cake: 6, friend: 2, multiplier: 2\n",
      "Cake: 7, friend: 3, multiplier: 2\n",
      "Cake: 8, friend: 4, multiplier: 2\n",
      "Cake: 9, friend: 5, multiplier: 2\n",
      "Cake: 10, friend: 1, multiplier: 3\n",
      "Cake: 11, friend: 2, multiplier: 3\n",
      "Cake: 12, friend: 3, multiplier: 3\n",
      "Cake: 13, friend: 4, multiplier: 3\n",
      "Cake: 14, friend: 5, multiplier: 3\n",
      "Cake: 15, friend: 1, multiplier: 4\n",
      "Cake: 16, friend: 2, multiplier: 4\n",
      "Cake: 17, friend: 3, multiplier: 4\n",
      "Cake: 18, friend: 4, multiplier: 4\n",
      "Cake: 19, friend: 5, multiplier: 4\n",
      "Cake: 20, friend: 1, multiplier: 5\n",
      "Cake: 21, friend: 2, multiplier: 5\n",
      "Cake: 22, friend: 3, multiplier: 5\n",
      "Cake: 23, friend: 4, multiplier: 5\n",
      "Cake: 24, friend: 5, multiplier: 5\n",
      "Cake: 25, friend: 1, multiplier: 6\n",
      "Cake: 26, friend: 2, multiplier: 6\n",
      "Cake: 27, friend: 3, multiplier: 6\n",
      "Cake: 28, friend: 4, multiplier: 6\n",
      "Cake: 29, friend: 5, multiplier: 6\n",
      "Cake: 30, friend: 1, multiplier: 7\n",
      "Cake: 31, friend: 2, multiplier: 7\n",
      "Cake: 32, friend: 3, multiplier: 7\n",
      "Cake: 33, friend: 4, multiplier: 7\n",
      "Cake: 34, friend: 5, multiplier: 7\n",
      "Cake: 35, friend: 1, multiplier: 8\n",
      "Cake: 36, friend: 2, multiplier: 8\n",
      "Cake: 37, friend: 3, multiplier: 8\n",
      "Cake: 38, friend: 4, multiplier: 8\n",
      "Cake: 39, friend: 5, multiplier: 8\n",
      "Cake: 40, friend: 1, multiplier: 9\n",
      "Cake: 41, friend: 2, multiplier: 9\n",
      "Cake: 42, friend: 3, multiplier: 9\n",
      "Cake: 43, friend: 4, multiplier: 9\n",
      "Cake: 44, friend: 5, multiplier: 9\n",
      "Cake: 45, friend: 1, multiplier: 10\n",
      "Cake: 46, friend: 2, multiplier: 10\n",
      "Cake: 47, friend: 3, multiplier: 10\n",
      "Cake: 48, friend: 4, multiplier: 10\n",
      "Cake: 49, friend: 5, multiplier: 10\n",
      "Cake: 50, friend: 1, multiplier: 11\n",
      "Cake: 51, friend: 2, multiplier: 11\n",
      "Cake: 52, friend: 3, multiplier: 11\n",
      "Cake: 53, friend: 4, multiplier: 11\n",
      "Cake: 54, friend: 5, multiplier: 11\n",
      "Cake: 55, friend: 1, multiplier: 12\n",
      "Cake: 56, friend: 2, multiplier: 12\n",
      "Cake: 57, friend: 3, multiplier: 12\n",
      "Cake: 58, friend: 4, multiplier: 12\n",
      "Cake: 59, friend: 5, multiplier: 12\n",
      "Cake: 60, friend: 1, multiplier: 13\n",
      "Cake: 61, friend: 2, multiplier: 13\n",
      "Cake: 62, friend: 3, multiplier: 13\n",
      "Cake: 63, friend: 4, multiplier: 13\n",
      "Cake: 64, friend: 5, multiplier: 13\n",
      "Cake: 65, friend: 1, multiplier: 14\n",
      "Cake: 66, friend: 2, multiplier: 14\n",
      "Cake: 67, friend: 3, multiplier: 14\n",
      "Cake: 68, friend: 4, multiplier: 14\n",
      "Cake: 69, friend: 5, multiplier: 14\n",
      "Cake: 70, friend: 1, multiplier: 15\n",
      "Cake: 71, friend: 2, multiplier: 15\n",
      "Cake: 72, friend: 3, multiplier: 15\n",
      "Cake: 73, friend: 4, multiplier: 15\n"
     ]
    }
   ],
   "source": [
    "import random\n",
    "random.seed(10)\n",
    "N=random.randint(1,100) \n",
    "K=random.randint(1,100)   \n",
    "C = [random.randint(1,1000) for i in range(N)]\n",
    "assert problem2(N, K, C) == 193878"
   ]
  }
 ],
 "metadata": {
  "kernelspec": {
   "display_name": "Python 3",
   "language": "python",
   "name": "python3"
  },
  "language_info": {
   "codemirror_mode": {
    "name": "ipython",
    "version": 3
   },
   "file_extension": ".py",
   "mimetype": "text/x-python",
   "name": "python",
   "nbconvert_exporter": "python",
   "pygments_lexer": "ipython3",
   "version": "3.8.8"
  },
  "toc": {
   "colors": {
    "hover_highlight": "#DAA520",
    "navigate_num": "#000000",
    "navigate_text": "#333333",
    "running_highlight": "#FF0000",
    "selected_highlight": "#FFD700",
    "sidebar_border": "#EEEEEE",
    "wrapper_background": "#FFFFFF"
   },
   "moveMenuLeft": true,
   "nav_menu": {
    "height": "30px",
    "width": "252px"
   },
   "navigate_menu": true,
   "number_sections": true,
   "sideBar": true,
   "skip_h1_title": false,
   "threshold": 4,
   "toc_cell": false,
   "toc_position": {},
   "toc_section_display": "block",
   "toc_window_display": false,
   "widenNotebook": false
  }
 },
 "nbformat": 4,
 "nbformat_minor": 2
}
